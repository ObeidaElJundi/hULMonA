{
 "cells": [
  {
   "cell_type": "code",
   "execution_count": 4,
   "metadata": {},
   "outputs": [],
   "source": [
    "torch.cuda.empty_cache()"
   ]
  },
  {
   "cell_type": "code",
   "execution_count": 1,
   "metadata": {},
   "outputs": [],
   "source": [
    "%reload_ext autoreload\n",
    "%autoreload 2\n",
    "%matplotlib inline"
   ]
  },
  {
   "cell_type": "code",
   "execution_count": 2,
   "metadata": {},
   "outputs": [],
   "source": [
    "from fastai import *\n",
    "from fastai.text import *\n",
    "from fastai.callbacks import *"
   ]
  },
  {
   "cell_type": "code",
   "execution_count": 3,
   "metadata": {},
   "outputs": [
    {
     "data": {
      "text/plain": [
       "[WindowsPath('.ipynb_checkpoints'),\n",
       " WindowsPath('build_arabic_language_model.ipynb'),\n",
       " WindowsPath('data'),\n",
       " WindowsPath('fine_tune_LM.ipynb'),\n",
       " WindowsPath('models')]"
      ]
     },
     "execution_count": 3,
     "metadata": {},
     "output_type": "execute_result"
    }
   ],
   "source": [
    "path = Path('.')\n",
    "path.ls()"
   ]
  },
  {
   "cell_type": "code",
   "execution_count": 5,
   "metadata": {},
   "outputs": [
    {
     "data": {
      "text/html": [
       "<div>\n",
       "<style scoped>\n",
       "    .dataframe tbody tr th:only-of-type {\n",
       "        vertical-align: middle;\n",
       "    }\n",
       "\n",
       "    .dataframe tbody tr th {\n",
       "        vertical-align: top;\n",
       "    }\n",
       "\n",
       "    .dataframe thead th {\n",
       "        text-align: right;\n",
       "    }\n",
       "</style>\n",
       "<table border=\"1\" class=\"dataframe\">\n",
       "  <thead>\n",
       "    <tr style=\"text-align: right;\">\n",
       "      <th></th>\n",
       "      <th>text</th>\n",
       "    </tr>\n",
       "  </thead>\n",
       "  <tbody>\n",
       "    <tr>\n",
       "      <th>0</th>\n",
       "      <td>ماء  ال+ ماء  ماده  شفافه  عديمه  ال+ لون  و+...</td>\n",
       "    </tr>\n",
       "    <tr>\n",
       "      <th>1</th>\n",
       "      <td>رياضيات  ال+ رياضيات  علم  عباره  عن  مفاهيم ...</td>\n",
       "    </tr>\n",
       "    <tr>\n",
       "      <th>2</th>\n",
       "      <td>استونيا  استونيا  ,  رسميا  جمهوريه  استونيا ...</td>\n",
       "    </tr>\n",
       "    <tr>\n",
       "      <th>3</th>\n",
       "      <td>س+ نجاب  ال+ سنجاب  حيوان  من  ال+ قوارض  ,  ...</td>\n",
       "    </tr>\n",
       "    <tr>\n",
       "      <th>4</th>\n",
       "      <td>تلفاز  ال+ تلفاز  او  ال+ تلفزه  او  ال+ تلفز...</td>\n",
       "    </tr>\n",
       "  </tbody>\n",
       "</table>\n",
       "</div>"
      ],
      "text/plain": [
       "                                                text\n",
       "0   ماء  ال+ ماء  ماده  شفافه  عديمه  ال+ لون  و+...\n",
       "1   رياضيات  ال+ رياضيات  علم  عباره  عن  مفاهيم ...\n",
       "2   استونيا  استونيا  ,  رسميا  جمهوريه  استونيا ...\n",
       "3   س+ نجاب  ال+ سنجاب  حيوان  من  ال+ قوارض  ,  ...\n",
       "4   تلفاز  ال+ تلفاز  او  ال+ تلفزه  او  ال+ تلفز..."
      ]
     },
     "execution_count": 5,
     "metadata": {},
     "output_type": "execute_result"
    }
   ],
   "source": [
    "df = pd.read_csv(path/'data'/'all_arabic_wiki_2019.txt.MyD3.tok', sep='\\t', header=None, names=['text'])\n",
    "df.head()"
   ]
  },
  {
   "cell_type": "code",
   "execution_count": 8,
   "metadata": {},
   "outputs": [
    {
     "name": "stdout",
     "output_type": "stream",
     "text": [
      "(540503, 1) (60056, 1)\n"
     ]
    }
   ],
   "source": [
    "np.random.seed(42)\n",
    "from sklearn.model_selection import train_test_split\n",
    "df_train, df_val = train_test_split(df, test_size=0.1)\n",
    "print(df_train.shape, df_val.shape)"
   ]
  },
  {
   "cell_type": "code",
   "execution_count": 6,
   "metadata": {},
   "outputs": [],
   "source": [
    "bs = 32"
   ]
  },
  {
   "cell_type": "code",
   "execution_count": 9,
   "metadata": {},
   "outputs": [],
   "source": [
    "ar_tok = Tokenizer(lang='ar')"
   ]
  },
  {
   "cell_type": "code",
   "execution_count": 11,
   "metadata": {},
   "outputs": [],
   "source": [
    "data_lm = TextLMDataBunch.from_df(path, train_df=df_train, valid_df=df_val, bs=bs, tokenizer=ar_tok, text_cols=0, label_cols=None, min_freq=5)"
   ]
  },
  {
   "cell_type": "code",
   "execution_count": 13,
   "metadata": {},
   "outputs": [
    {
     "data": {
      "text/html": [
       "<table border=\"1\" class=\"dataframe\">\n",
       "  <thead>\n",
       "    <tr style=\"text-align: right;\">\n",
       "      <th>idx</th>\n",
       "      <th>text</th>\n",
       "    </tr>\n",
       "  </thead>\n",
       "  <tbody>\n",
       "    <tr>\n",
       "      <td>0</td>\n",
       "      <td>ال+ نوادي , ف+ قد لعب مع و . xxbos جوهانس ريتر جوهانس ريتر هو مدرب كره قدم و+ لاعب كره قدم دانمركي في مركز ال+ وسط . لعب مع نادي نوردشيلاند . xxbos جيري xxunk جيري ريكاردو xxunk بودن هو لاعب كره قدم هندوراسي يجيد ال+ لعب ك+ مهاجم ل+ نادي xxunk ال+ ايراني . xxbos اسامه عبد ال+ واحد اسامه حمدي عبد ال+ واحد , استاذ جامعي مصري</td>\n",
       "    </tr>\n",
       "    <tr>\n",
       "      <td>1</td>\n",
       "      <td>xxunk عن حبيبات ارز xxunk و+ تواريخ ال+ كربون ال+ مشع , يشار ان زراعه ا ل+ ارز في ال+ حقول ال+ جافه قد تكون بدات في وقت مبكر من فتره فخار xxunk ال+ وسطي قبل ال+ ميلاد في شبه ال+ جزيره ال+ كوريه . تم اكتشاف حقول ال+ ارز من قبل معاهد مثل متحف جامعه xxunk في xxunk قاموا ب+ حفر مواقع حقول ال+ ارز في موقع xxunk ني</td>\n",
       "    </tr>\n",
       "    <tr>\n",
       "      <td>2</td>\n",
       "      <td>ل+ مجلس ال+ قياده , ثم تم اختيار + ه ك+ احد اعضاء ال+ مكتب ال+ سياسي ل+ ال+ حزب ال+ ديمقراطي ال+ كردستاني . في عام رقم م , تم تعيين + ه من قبل والد + ه رءيس اقليم كردستان ال+ سابق مسعود بارزاني رءيسا ل+ مجلس امن اقليم كردستان ل+ ال+ اشراف علي ال+ امن و+ ال+ مخابرات ال+ عسكريه و+ اجهزه ال+ مخابرات ال+ حاليه .</td>\n",
       "    </tr>\n",
       "    <tr>\n",
       "      <td>3</td>\n",
       "      <td>و+ هم يقومون ب+ وزن ال+ مواد ب+ ميزان , ثم صهر + ه في عده xxunk , ثم الي يمين ال+ صوره صب ال+ برونز ال+ منصهر علي لوحه صب بحيث ينتج من + ها لوحا xxunk . اثناء عمليه ال+ صب يري احد ال+ عمال جالسا و+ يمنع ب+ واسطه قطعه خشب في يد + ه , نزول ال+ شواءب ال+ طافيه علي سطح ال+ برونز ال+ منصهر</td>\n",
       "    </tr>\n",
       "    <tr>\n",
       "      <td>4</td>\n",
       "      <td>جمع ال+ قراءات , الا ان وفاه ال+ شيخ محمد سليم حالت دون ذلك , ف+ اتصل ب+ ولد + ه , ال+ شيخ احمد ال+ حلواني ال+ حفيد , و+ جمع علي + ه ال+ قراءات ال+ عشر من طريق الشاطبيه و+ ال+ دره , ثم جمع بعد ذلك ال+ عشر ال+ صغري ايضا علي ال+ شيخ محمود فاءز xxunk , ثم اتصل ب+ ال+ شيخ عبد ال+ قادر</td>\n",
       "    </tr>\n",
       "  </tbody>\n",
       "</table>"
      ],
      "text/plain": [
       "<IPython.core.display.HTML object>"
      ]
     },
     "metadata": {},
     "output_type": "display_data"
    }
   ],
   "source": [
    "data_lm.show_batch()"
   ]
  },
  {
   "cell_type": "code",
   "execution_count": 12,
   "metadata": {},
   "outputs": [],
   "source": [
    "data_lm.save(path/'data'/'data_lm.pkl')"
   ]
  },
  {
   "cell_type": "code",
   "execution_count": 4,
   "metadata": {},
   "outputs": [],
   "source": [
    "data_lm = load_data(path, path/'data'/'data_lm.pkl', bs = 32)"
   ]
  },
  {
   "cell_type": "code",
   "execution_count": 49,
   "metadata": {},
   "outputs": [],
   "source": [
    "#pickle.dump(data_lm.train_ds.x.vocab.itos, path/'data'/'itos.pkl')\n",
    "with open( path/'data'/'itos.pkl', 'wb') as pickle_file:\n",
    "    pickle.dump(data_lm.train_ds.x.vocab.itos, pickle_file)"
   ]
  },
  {
   "cell_type": "code",
   "execution_count": 27,
   "metadata": {},
   "outputs": [
    {
     "data": {
      "text/plain": [
       "'xxbos فيت نغوين نغوين فيت نغوين نغوين هو مدرب كره قدم و+ لاعب كره قدم امريكي في مركز ال+ هجوم . شارك مع . اما مع ال+ نوادي , ف+ قد لعب مع و .'"
      ]
     },
     "execution_count": 27,
     "metadata": {},
     "output_type": "execute_result"
    }
   ],
   "source": [
    "data_lm.train_ds.x[1].text"
   ]
  },
  {
   "cell_type": "markdown",
   "metadata": {},
   "source": [
    "## Load data for LM"
   ]
  },
  {
   "cell_type": "code",
   "execution_count": 7,
   "metadata": {},
   "outputs": [],
   "source": [
    "data_lm = load_data(path/'data', 'data_lm.pkl', bs=32)"
   ]
  },
  {
   "cell_type": "markdown",
   "metadata": {},
   "source": [
    "## Train LM"
   ]
  },
  {
   "cell_type": "code",
   "execution_count": 6,
   "metadata": {},
   "outputs": [],
   "source": [
    "learn_lm = language_model_learner(data_lm, AWD_LSTM, drop_mult=0.1, pretrained=False)"
   ]
  },
  {
   "cell_type": "code",
   "execution_count": 6,
   "metadata": {},
   "outputs": [
    {
     "data": {
      "text/html": [],
      "text/plain": [
       "<IPython.core.display.HTML object>"
      ]
     },
     "metadata": {},
     "output_type": "display_data"
    },
    {
     "name": "stdout",
     "output_type": "stream",
     "text": [
      "LR Finder is complete, type {learner_name}.recorder.plot() to see the graph.\n"
     ]
    }
   ],
   "source": [
    "learn_lm.lr_find()"
   ]
  },
  {
   "cell_type": "code",
   "execution_count": 7,
   "metadata": {},
   "outputs": [
    {
     "data": {
      "image/png": "[encoded data removed]",
      "text/plain": [
       "<Figure size 432x288 with 1 Axes>"
      ]
     },
     "metadata": {
      "needs_background": "light"
     },
     "output_type": "display_data"
    }
   ],
   "source": [
    "learn_lm.recorder.plot()"
   ]
  },
  {
   "cell_type": "code",
   "execution_count": 8,
   "metadata": {},
   "outputs": [
    {
     "data": {
      "text/html": [
       "Total time: 3:02:59 <p><table border=\"1\" class=\"dataframe\">\n",
       "  <thead>\n",
       "    <tr style=\"text-align: left;\">\n",
       "      <th>epoch</th>\n",
       "      <th>train_loss</th>\n",
       "      <th>valid_loss</th>\n",
       "      <th>accuracy</th>\n",
       "      <th>time</th>\n",
       "    </tr>\n",
       "  </thead>\n",
       "  <tbody>\n",
       "    <tr>\n",
       "      <td>0</td>\n",
       "      <td>3.337320</td>\n",
       "      <td>3.258058</td>\n",
       "      <td>0.437729</td>\n",
       "      <td>3:02:59</td>\n",
       "    </tr>\n",
       "  </tbody>\n",
       "</table>"
      ],
      "text/plain": [
       "<IPython.core.display.HTML object>"
      ]
     },
     "metadata": {},
     "output_type": "display_data"
    }
   ],
   "source": [
    "learn_lm.fit_one_cycle(1, 3e-3)"
   ]
  },
  {
   "cell_type": "code",
   "execution_count": 9,
   "metadata": {},
   "outputs": [],
   "source": [
    "learn_lm.save('Ar-LM-epoch1-acc43')"
   ]
  },
  {
   "cell_type": "code",
   "execution_count": 70,
   "metadata": {},
   "outputs": [
    {
     "data": {
      "text/plain": [
       "LanguageLearner(data=TextLMDataBunch;\n",
       "\n",
       "Train: LabelList (540503 items)\n",
       "x: LMTextList\n",
       "xxbos روبرت بيكر روبرت بيكر هو سياسي امريكي , ولد في رقم ابريل رقم في ال+ مملكه ال+ متحده , و+ توفي في رقم يونيو رقم ببروكلين في ال+ ولايات ال+ متحده . حزبيا , نشط في ال+ حزب ال+ ديمقراطي . انتخب .,xxbos فيت نغوين نغوين فيت نغوين نغوين هو مدرب كره قدم و+ لاعب كره قدم امريكي في مركز ال+ هجوم . شارك مع . اما مع ال+ نوادي , ف+ قد لعب مع و .,xxbos جوهانس ريتر جوهانس ريتر هو مدرب كره قدم و+ لاعب كره قدم دانمركي في مركز ال+ وسط . لعب مع نادي نوردشيلاند .,xxbos جيري xxunk جيري ريكاردو xxunk بودن هو لاعب كره قدم هندوراسي يجيد ال+ لعب ك+ مهاجم ل+ نادي xxunk ال+ ايراني .,xxbos اسامه عبد ال+ واحد اسامه حمدي عبد ال+ واحد , استاذ جامعي مصري ب+ جامعه عين شمس , و+ محافظ كفر ال+ شيخ ال+ سابق منذ رقم فبراير رقم حتي رقم ديسمبر رقم . ولد اسامه عبد ال+ واحد ب+ ال+ قاهره عام رقم . درس و+ تخرج في كليه ال+ هندسه ب+ جامعه عين شمس عام رقم , و+ حصل علي درجه ال+ ماجستير عام رقم , ثم ال+ دكتوراه عام رقم . شغل منصب استاذ هندسه ال+ انشاءات و+ ال+ كباري ب+ جامعه عين شمس , كما شغل منصب رءيس جهاز ال+ تفتيش ال+ فني علي ال+ بناء ب+ وزاره ال+ اسكان و+ ال+ مرافق و+ ال+ مجتمعات ال+ عمرانيه .\n",
       "y: LMLabelList\n",
       ",,,,\n",
       "Path: .;\n",
       "\n",
       "Valid: LabelList (60056 items)\n",
       "x: LMTextList\n",
       "xxbos مبارك xxunk ال+ بلوشي مبارك xxunk هو لاعب كره قدم قطري يلعب في خط ال+ وسط . لعب سابقا مع انديه ال+ ريان و السيليه و ال+ اهلي و قطر و ام صلال و الشحانيه . مبارك xxunk ال+ بلوشي,xxbos عنصر اولي ال+ عنصر ال+ اولي في ال+ رياضيات و+ خاصه في ال+ جبر ال+ مجرد هو عنصر غير صفري دون معاكس رقم من حلقه رقم يولد مثاليا اوليا . و+ يمكن ملاحظه ان + ه عندما + ما يكون رقم xxunk ل+ جداء في رقم , يكون رقم xxunk ل+ احد ال+ عوامل . نجد في ال+ مجال ال+ صحيح ان كل عنصر اولي غير قابل ل+ ال+ اختزال , و+ لكن ال+ عكس لا يتحقق الا في مجالات ال+ تحليل ال+ وحيد . ال+ حلقه رقم , حيث رقم وحده تخيليه , ليست مجال تحليل وحيدا , ف+ حيث ان ال+ عنصر رقم غير قابل ل+ ال+ اختزال , الا ان + ه ليس اوليا , ان + ه قاسم ل+ ال+ جداء رقم , لكن + ه ليس xxunk ل+ اي من عوامل هذا ال+ جداء .,xxbos ثقافه حيويه ثقافه حيويه ثقافه حيويه , و+ تضم ال+ مجالات ال+ مندمجه و+ ال+ مختلفه في ال+ علوم ال+ طبيه و+ ال+ علوم ال+ اجتماعيه و+ دراسات ال+ منطقه , و+ ال+ دراسات و+ ال+ ثقافه , و+ ال+ تكنولوجيا ال+ حيويه , و+ دراسات ال+ عجز او ال+ xxunk , و+ ال+ علوم ال+ انسانيه , و+ ال+ بيءه ال+ اقتصاديه و+ ال+ عالميه . ال+ ثقافه ال+ حيويه تحدد ال+ نشاط و+ توطيد ال+ افكار التي تنشا عندما + ما يتقاطع ال+ انسان مع ال+ تكنولوجيه .,xxbos ريفا xxunk ريفا xxunk هي بلديه في مقاطعه فرشيلي ال+ تابعه ل+ اقليم بييمونتي ال+ ايطالي , تقع علي بعد حوال + ي الي ال+ شمال من مدينه تورينو و+ حوال + ي شمال غرب مدينه فيرتشيلي . تقع ريفا xxunk علي حدود ال+ بلديات ال+ تاليه الانيا xxunk , xxunk , xxunk , راسا , ريما سان جيوسيبي , في بييمونتي xxunk لا ترينيتي xxunk سانت جين عبر ال+ حدود ال+ غربيه الي وادي اوستا .,xxbos براد ديفيز روبرت كريل براد ديفيز , , و+ هو ممثل امريكي اشتهر خلال دور + ه في فيلم سريع في قطار منتصف ال+ ليل\n",
       "y: LMLabelList\n",
       ",,,,\n",
       "Path: .;\n",
       "\n",
       "Test: None, model=SequentialRNN(\n",
       "  (0): AWD_LSTM(\n",
       "    (encoder): Embedding(60006, 400, padding_idx=1)\n",
       "    (encoder_dp): EmbeddingDropout(\n",
       "      (emb): Embedding(60006, 400, padding_idx=1)\n",
       "    )\n",
       "    (rnns): ModuleList(\n",
       "      (0): WeightDropout(\n",
       "        (module): LSTM(400, 1150, batch_first=True)\n",
       "      )\n",
       "      (1): WeightDropout(\n",
       "        (module): LSTM(1150, 1150, batch_first=True)\n",
       "      )\n",
       "      (2): WeightDropout(\n",
       "        (module): LSTM(1150, 400, batch_first=True)\n",
       "      )\n",
       "    )\n",
       "    (input_dp): RNNDropout()\n",
       "    (hidden_dps): ModuleList(\n",
       "      (0): RNNDropout()\n",
       "      (1): RNNDropout()\n",
       "      (2): RNNDropout()\n",
       "    )\n",
       "  )\n",
       "  (1): LinearDecoder(\n",
       "    (decoder): Linear(in_features=400, out_features=60006, bias=True)\n",
       "    (output_dp): RNNDropout()\n",
       "  )\n",
       "), opt_func=functools.partial(<class 'torch.optim.adam.Adam'>, betas=(0.9, 0.99)), loss_func=FlattenedLoss of CrossEntropyLoss(), metrics=[<function accuracy at 0x000001DD5904A0D0>], true_wd=True, bn_wd=True, wd=0.01, train_bn=True, path=WindowsPath('data'), model_dir='models', callback_fns=[functools.partial(<class 'fastai.basic_train.Recorder'>, add_time=True)], callbacks=[RNNTrainer\n",
       "learn: LanguageLearner(data=TextLMDataBunch;\n",
       "\n",
       "Train: LabelList (540503 items)\n",
       "x: LMTextList\n",
       "xxbos روبرت بيكر روبرت بيكر هو سياسي امريكي , ولد في رقم ابريل رقم في ال+ مملكه ال+ متحده , و+ توفي في رقم يونيو رقم ببروكلين في ال+ ولايات ال+ متحده . حزبيا , نشط في ال+ حزب ال+ ديمقراطي . انتخب .,xxbos فيت نغوين نغوين فيت نغوين نغوين هو مدرب كره قدم و+ لاعب كره قدم امريكي في مركز ال+ هجوم . شارك مع . اما مع ال+ نوادي , ف+ قد لعب مع و .,xxbos جوهانس ريتر جوهانس ريتر هو مدرب كره قدم و+ لاعب كره قدم دانمركي في مركز ال+ وسط . لعب مع نادي نوردشيلاند .,xxbos جيري xxunk جيري ريكاردو xxunk بودن هو لاعب كره قدم هندوراسي يجيد ال+ لعب ك+ مهاجم ل+ نادي xxunk ال+ ايراني .,xxbos اسامه عبد ال+ واحد اسامه حمدي عبد ال+ واحد , استاذ جامعي مصري ب+ جامعه عين شمس , و+ محافظ كفر ال+ شيخ ال+ سابق منذ رقم فبراير رقم حتي رقم ديسمبر رقم . ولد اسامه عبد ال+ واحد ب+ ال+ قاهره عام رقم . درس و+ تخرج في كليه ال+ هندسه ب+ جامعه عين شمس عام رقم , و+ حصل علي درجه ال+ ماجستير عام رقم , ثم ال+ دكتوراه عام رقم . شغل منصب استاذ هندسه ال+ انشاءات و+ ال+ كباري ب+ جامعه عين شمس , كما شغل منصب رءيس جهاز ال+ تفتيش ال+ فني علي ال+ بناء ب+ وزاره ال+ اسكان و+ ال+ مرافق و+ ال+ مجتمعات ال+ عمرانيه .\n",
       "y: LMLabelList\n",
       ",,,,\n",
       "Path: .;\n",
       "\n",
       "Valid: LabelList (60056 items)\n",
       "x: LMTextList\n",
       "xxbos مبارك xxunk ال+ بلوشي مبارك xxunk هو لاعب كره قدم قطري يلعب في خط ال+ وسط . لعب سابقا مع انديه ال+ ريان و السيليه و ال+ اهلي و قطر و ام صلال و الشحانيه . مبارك xxunk ال+ بلوشي,xxbos عنصر اولي ال+ عنصر ال+ اولي في ال+ رياضيات و+ خاصه في ال+ جبر ال+ مجرد هو عنصر غير صفري دون معاكس رقم من حلقه رقم يولد مثاليا اوليا . و+ يمكن ملاحظه ان + ه عندما + ما يكون رقم xxunk ل+ جداء في رقم , يكون رقم xxunk ل+ احد ال+ عوامل . نجد في ال+ مجال ال+ صحيح ان كل عنصر اولي غير قابل ل+ ال+ اختزال , و+ لكن ال+ عكس لا يتحقق الا في مجالات ال+ تحليل ال+ وحيد . ال+ حلقه رقم , حيث رقم وحده تخيليه , ليست مجال تحليل وحيدا , ف+ حيث ان ال+ عنصر رقم غير قابل ل+ ال+ اختزال , الا ان + ه ليس اوليا , ان + ه قاسم ل+ ال+ جداء رقم , لكن + ه ليس xxunk ل+ اي من عوامل هذا ال+ جداء .,xxbos ثقافه حيويه ثقافه حيويه ثقافه حيويه , و+ تضم ال+ مجالات ال+ مندمجه و+ ال+ مختلفه في ال+ علوم ال+ طبيه و+ ال+ علوم ال+ اجتماعيه و+ دراسات ال+ منطقه , و+ ال+ دراسات و+ ال+ ثقافه , و+ ال+ تكنولوجيا ال+ حيويه , و+ دراسات ال+ عجز او ال+ xxunk , و+ ال+ علوم ال+ انسانيه , و+ ال+ بيءه ال+ اقتصاديه و+ ال+ عالميه . ال+ ثقافه ال+ حيويه تحدد ال+ نشاط و+ توطيد ال+ افكار التي تنشا عندما + ما يتقاطع ال+ انسان مع ال+ تكنولوجيه .,xxbos ريفا xxunk ريفا xxunk هي بلديه في مقاطعه فرشيلي ال+ تابعه ل+ اقليم بييمونتي ال+ ايطالي , تقع علي بعد حوال + ي الي ال+ شمال من مدينه تورينو و+ حوال + ي شمال غرب مدينه فيرتشيلي . تقع ريفا xxunk علي حدود ال+ بلديات ال+ تاليه الانيا xxunk , xxunk , xxunk , راسا , ريما سان جيوسيبي , في بييمونتي xxunk لا ترينيتي xxunk سانت جين عبر ال+ حدود ال+ غربيه الي وادي اوستا .,xxbos براد ديفيز روبرت كريل براد ديفيز , , و+ هو ممثل امريكي اشتهر خلال دور + ه في فيلم سريع في قطار منتصف ال+ ليل\n",
       "y: LMLabelList\n",
       ",,,,\n",
       "Path: .;\n",
       "\n",
       "Test: None, model=SequentialRNN(\n",
       "  (0): AWD_LSTM(\n",
       "    (encoder): Embedding(60006, 400, padding_idx=1)\n",
       "    (encoder_dp): EmbeddingDropout(\n",
       "      (emb): Embedding(60006, 400, padding_idx=1)\n",
       "    )\n",
       "    (rnns): ModuleList(\n",
       "      (0): WeightDropout(\n",
       "        (module): LSTM(400, 1150, batch_first=True)\n",
       "      )\n",
       "      (1): WeightDropout(\n",
       "        (module): LSTM(1150, 1150, batch_first=True)\n",
       "      )\n",
       "      (2): WeightDropout(\n",
       "        (module): LSTM(1150, 400, batch_first=True)\n",
       "      )\n",
       "    )\n",
       "    (input_dp): RNNDropout()\n",
       "    (hidden_dps): ModuleList(\n",
       "      (0): RNNDropout()\n",
       "      (1): RNNDropout()\n",
       "      (2): RNNDropout()\n",
       "    )\n",
       "  )\n",
       "  (1): LinearDecoder(\n",
       "    (decoder): Linear(in_features=400, out_features=60006, bias=True)\n",
       "    (output_dp): RNNDropout()\n",
       "  )\n",
       "), opt_func=functools.partial(<class 'torch.optim.adam.Adam'>, betas=(0.9, 0.99)), loss_func=FlattenedLoss of CrossEntropyLoss(), metrics=[<function accuracy at 0x000001DD5904A0D0>], true_wd=True, bn_wd=True, wd=0.01, train_bn=True, path=WindowsPath('data'), model_dir='models', callback_fns=[functools.partial(<class 'fastai.basic_train.Recorder'>, add_time=True)], callbacks=[...], layer_groups=[Sequential(\n",
       "  (0): WeightDropout(\n",
       "    (module): LSTM(400, 1150, batch_first=True)\n",
       "  )\n",
       "  (1): RNNDropout()\n",
       "), Sequential(\n",
       "  (0): WeightDropout(\n",
       "    (module): LSTM(1150, 1150, batch_first=True)\n",
       "  )\n",
       "  (1): RNNDropout()\n",
       "), Sequential(\n",
       "  (0): WeightDropout(\n",
       "    (module): LSTM(1150, 400, batch_first=True)\n",
       "  )\n",
       "  (1): RNNDropout()\n",
       "), Sequential(\n",
       "  (0): Embedding(60006, 400, padding_idx=1)\n",
       "  (1): EmbeddingDropout(\n",
       "    (emb): Embedding(60006, 400, padding_idx=1)\n",
       "  )\n",
       "  (2): LinearDecoder(\n",
       "    (decoder): Linear(in_features=400, out_features=60006, bias=True)\n",
       "    (output_dp): RNNDropout()\n",
       "  )\n",
       ")], add_time=True)\n",
       "alpha: 2.0\n",
       "beta: 1.0], layer_groups=[Sequential(\n",
       "  (0): WeightDropout(\n",
       "    (module): LSTM(400, 1150, batch_first=True)\n",
       "  )\n",
       "  (1): RNNDropout()\n",
       "), Sequential(\n",
       "  (0): WeightDropout(\n",
       "    (module): LSTM(1150, 1150, batch_first=True)\n",
       "  )\n",
       "  (1): RNNDropout()\n",
       "), Sequential(\n",
       "  (0): WeightDropout(\n",
       "    (module): LSTM(1150, 400, batch_first=True)\n",
       "  )\n",
       "  (1): RNNDropout()\n",
       "), Sequential(\n",
       "  (0): Embedding(60006, 400, padding_idx=1)\n",
       "  (1): EmbeddingDropout(\n",
       "    (emb): Embedding(60006, 400, padding_idx=1)\n",
       "  )\n",
       "  (2): LinearDecoder(\n",
       "    (decoder): Linear(in_features=400, out_features=60006, bias=True)\n",
       "    (output_dp): RNNDropout()\n",
       "  )\n",
       ")], add_time=True)"
      ]
     },
     "execution_count": 70,
     "metadata": {},
     "output_type": "execute_result"
    }
   ],
   "source": [
    "learn_lm.load('Ar-LM-epoch1-acc43')"
   ]
  },
  {
   "cell_type": "code",
   "execution_count": 9,
   "metadata": {},
   "outputs": [
    {
     "data": {
      "text/plain": [
       "'ال+ ماء من اهم  مناطق فلسطين ال+ صناعيه ال+ شمول ال+ نهري شيوعا في فلسطين حيث ان + ه مثبط ل + ها , و+ مغطاه و+ هي محصنه من بنيه متناظر , ب+ اسنان + ها ال+ ثاقب , و+ ال+ اخشاب ال+'"
      ]
     },
     "execution_count": 9,
     "metadata": {},
     "output_type": "execute_result"
    }
   ],
   "source": [
    "learn_lm.predict('ال+ ماء من اهم ', n_words=40)"
   ]
  },
  {
   "cell_type": "code",
   "execution_count": 32,
   "metadata": {},
   "outputs": [
    {
     "data": {
      "text/plain": [
       "'درس ال+ ولد  في ال+ صف ال+ اول تعلم ال+ صف ال+ اخير كتاب تفسير ابي صامت ل+ ال+ علامه سعيد احمد ف+ ال+ ين كتاب السيوطي ال+ مشرف علي ال+ تكمله في ال+ مدرسه ال+'"
      ]
     },
     "execution_count": 32,
     "metadata": {},
     "output_type": "execute_result"
    }
   ],
   "source": [
    "learn_lm.predict('درس ال+ ولد ', n_words=33)"
   ]
  },
  {
   "cell_type": "code",
   "execution_count": null,
   "metadata": {},
   "outputs": [],
   "source": [
    "# train more..."
   ]
  },
  {
   "cell_type": "code",
   "execution_count": 71,
   "metadata": {},
   "outputs": [
    {
     "data": {
      "text/html": [],
      "text/plain": [
       "<IPython.core.display.HTML object>"
      ]
     },
     "metadata": {},
     "output_type": "display_data"
    },
    {
     "name": "stdout",
     "output_type": "stream",
     "text": [
      "LR Finder is complete, type {learner_name}.recorder.plot() to see the graph.\n"
     ]
    },
    {
     "data": {
      "image/png": "[encoded data removed]",
      "text/plain": [
       "<Figure size 432x288 with 1 Axes>"
      ]
     },
     "metadata": {
      "needs_background": "light"
     },
     "output_type": "display_data"
    }
   ],
   "source": [
    "learn_lm.unfreeze()\n",
    "#learn_lm.freeze_to(-1)\n",
    "learn_lm.lr_find()\n",
    "learn_lm.recorder.plot()"
   ]
  },
  {
   "cell_type": "code",
   "execution_count": 57,
   "metadata": {},
   "outputs": [
    {
     "data": {
      "text/html": [
       "Total time: 19:09:42 <p><table border=\"1\" class=\"dataframe\">\n",
       "  <thead>\n",
       "    <tr style=\"text-align: left;\">\n",
       "      <th>epoch</th>\n",
       "      <th>train_loss</th>\n",
       "      <th>valid_loss</th>\n",
       "      <th>accuracy</th>\n",
       "      <th>time</th>\n",
       "    </tr>\n",
       "  </thead>\n",
       "  <tbody>\n",
       "    <tr>\n",
       "      <td>0</td>\n",
       "      <td>3.363239</td>\n",
       "      <td>3.758562</td>\n",
       "      <td>0.371429</td>\n",
       "      <td>11:49:32</td>\n",
       "    </tr>\n",
       "    <tr>\n",
       "      <td>1</td>\n",
       "      <td>3.410845</td>\n",
       "      <td>3.742307</td>\n",
       "      <td>0.371429</td>\n",
       "      <td>3:28:51</td>\n",
       "    </tr>\n",
       "    <tr>\n",
       "      <td>2</td>\n",
       "      <td>3.249457</td>\n",
       "      <td>3.634851</td>\n",
       "      <td>0.414286</td>\n",
       "      <td>3:51:16</td>\n",
       "    </tr>\n",
       "  </tbody>\n",
       "</table>"
      ],
      "text/plain": [
       "<IPython.core.display.HTML object>"
      ]
     },
     "metadata": {},
     "output_type": "display_data"
    }
   ],
   "source": [
    "learn_lm.fit_one_cycle(3, slice(1e-3/(2.6**4),1e-3),\n",
    "    callbacks=[SaveModelCallback(learn_lm, every='epoch', monitor='accuracy', name='Ar-LM_unfreeze_1e-3')])"
   ]
  },
  {
   "cell_type": "code",
   "execution_count": 54,
   "metadata": {},
   "outputs": [],
   "source": [
    "learn_lm.save('Ar-LM-epoch4-acc443')"
   ]
  },
  {
   "cell_type": "code",
   "execution_count": 58,
   "metadata": {},
   "outputs": [
    {
     "data": {
      "text/plain": [
       "'قال ال+ ولد  لقد ذكر احمال ما هو كلام الله يرمز الي ال+ حوار ان + ه فاءده فساد ال+ تغير , و+ يلعب ب+ ال+ طرد من + ه , و+ يجبر ال+ جماهير علي'"
      ]
     },
     "execution_count": 58,
     "metadata": {},
     "output_type": "execute_result"
    }
   ],
   "source": [
    "learn_lm.predict('قال ال+ ولد ', n_words=33)"
   ]
  },
  {
   "cell_type": "code",
   "execution_count": 59,
   "metadata": {},
   "outputs": [
    {
     "data": {
      "image/png": "[encoded data removed]",
      "text/plain": [
       "<Figure size 432x288 with 1 Axes>"
      ]
     },
     "metadata": {
      "needs_background": "light"
     },
     "output_type": "display_data"
    }
   ],
   "source": [
    "learn_lm.recorder.plot_losses()"
   ]
  },
  {
   "cell_type": "code",
   "execution_count": 53,
   "metadata": {},
   "outputs": [
    {
     "data": {
      "text/plain": [
       "======================================================================\n",
       "Layer (type)         Output Shape         Param #    Trainable \n",
       "======================================================================\n",
       "RNNDropout           [70, 400]            0          False     \n",
       "______________________________________________________________________\n",
       "RNNDropout           [70, 1150]           0          False     \n",
       "______________________________________________________________________\n",
       "RNNDropout           [70, 1150]           0          False     \n",
       "______________________________________________________________________\n",
       "Linear               [70, 60006]          24,062,406 True      \n",
       "______________________________________________________________________\n",
       "RNNDropout           [70, 400]            0          False     \n",
       "______________________________________________________________________\n",
       "\n",
       "Total params: 24,062,406\n",
       "Total trainable params: 24,062,406\n",
       "Total non-trainable params: 0"
      ]
     },
     "execution_count": 53,
     "metadata": {},
     "output_type": "execute_result"
    }
   ],
   "source": [
    "#learn_lm.lr_find()\n",
    "#learn_lm.unfreeze()\n",
    "learn_lm.summary()"
   ]
  },
  {
   "cell_type": "code",
   "execution_count": 64,
   "metadata": {},
   "outputs": [
    {
     "data": {
      "text/html": [],
      "text/plain": [
       "<IPython.core.display.HTML object>"
      ]
     },
     "metadata": {},
     "output_type": "display_data"
    },
    {
     "name": "stdout",
     "output_type": "stream",
     "text": [
      "LR Finder is complete, type {learner_name}.recorder.plot() to see the graph.\n"
     ]
    },
    {
     "data": {
      "image/png": "[encoded data removed]",
      "text/plain": [
       "<Figure size 432x288 with 1 Axes>"
      ]
     },
     "metadata": {
      "needs_background": "light"
     },
     "output_type": "display_data"
    }
   ],
   "source": [
    "#learn_lm.load('Ar-LM-epoch4-acc443')\n",
    "#learn_lm.unfreeze()\n",
    "learn_lm.lr_find()\n",
    "learn_lm.recorder.plot()"
   ]
  },
  {
   "cell_type": "code",
   "execution_count": 72,
   "metadata": {},
   "outputs": [
    {
     "data": {
      "text/html": [
       "Total time: 9:57:35 <p><table border=\"1\" class=\"dataframe\">\n",
       "  <thead>\n",
       "    <tr style=\"text-align: left;\">\n",
       "      <th>epoch</th>\n",
       "      <th>train_loss</th>\n",
       "      <th>valid_loss</th>\n",
       "      <th>accuracy</th>\n",
       "      <th>time</th>\n",
       "    </tr>\n",
       "  </thead>\n",
       "  <tbody>\n",
       "    <tr>\n",
       "      <td>0</td>\n",
       "      <td>3.377989</td>\n",
       "      <td>3.854942</td>\n",
       "      <td>0.400000</td>\n",
       "      <td>3:19:10</td>\n",
       "    </tr>\n",
       "    <tr>\n",
       "      <td>1</td>\n",
       "      <td>3.310036</td>\n",
       "      <td>3.466055</td>\n",
       "      <td>0.457143</td>\n",
       "      <td>3:19:19</td>\n",
       "    </tr>\n",
       "    <tr>\n",
       "      <td>2</td>\n",
       "      <td>3.196206</td>\n",
       "      <td>3.423015</td>\n",
       "      <td>0.428571</td>\n",
       "      <td>3:19:03</td>\n",
       "    </tr>\n",
       "  </tbody>\n",
       "</table>"
      ],
      "text/plain": [
       "<IPython.core.display.HTML object>"
      ]
     },
     "metadata": {},
     "output_type": "display_data"
    }
   ],
   "source": [
    "learn_lm.fit_one_cycle(3, 1e-3,\n",
    "    callbacks=[SaveModelCallback(learn_lm, every='epoch', monitor='accuracy', name='Ar-LM_unfreeze_1e-3_after1')])"
   ]
  },
  {
   "cell_type": "code",
   "execution_count": 76,
   "metadata": {},
   "outputs": [
    {
     "data": {
      "text/plain": [
       "'التاريخ المعاصر حمص تاريخ العراق الحديث جنيننا كربلاء النصيه محاطه بتونس والخصاءص الشخصيه لثوره رقم ابريل الجبهه المءذنه هجوما يعرف بالثوره ال+'"
      ]
     },
     "execution_count": 76,
     "metadata": {},
     "output_type": "execute_result"
    }
   ],
   "source": [
    "pred = learn_lm.predict('ال+ تاريخ ال+ معاصر', n_words=33)\n",
    "pred = pred.replace(' + ', '').replace('+ ', '').replace(' +', '')\n",
    "pred"
   ]
  },
  {
   "cell_type": "markdown",
   "metadata": {},
   "source": [
    "### test LM"
   ]
  },
  {
   "cell_type": "code",
   "execution_count": 20,
   "metadata": {},
   "outputs": [
    {
     "data": {
      "text/plain": [
       "LanguageLearner(data=TextLMDataBunch;\n",
       "\n",
       "Train: LabelList (540503 items)\n",
       "x: LMTextList\n",
       "xxbos روبرت بيكر روبرت بيكر هو سياسي امريكي , ولد في رقم ابريل رقم في ال+ مملكه ال+ متحده , و+ توفي في رقم يونيو رقم ببروكلين في ال+ ولايات ال+ متحده . حزبيا , نشط في ال+ حزب ال+ ديمقراطي . انتخب .,xxbos فيت نغوين نغوين فيت نغوين نغوين هو مدرب كره قدم و+ لاعب كره قدم امريكي في مركز ال+ هجوم . شارك مع . اما مع ال+ نوادي , ف+ قد لعب مع و .,xxbos جوهانس ريتر جوهانس ريتر هو مدرب كره قدم و+ لاعب كره قدم دانمركي في مركز ال+ وسط . لعب مع نادي نوردشيلاند .,xxbos جيري xxunk جيري ريكاردو xxunk بودن هو لاعب كره قدم هندوراسي يجيد ال+ لعب ك+ مهاجم ل+ نادي xxunk ال+ ايراني .,xxbos اسامه عبد ال+ واحد اسامه حمدي عبد ال+ واحد , استاذ جامعي مصري ب+ جامعه عين شمس , و+ محافظ كفر ال+ شيخ ال+ سابق منذ رقم فبراير رقم حتي رقم ديسمبر رقم . ولد اسامه عبد ال+ واحد ب+ ال+ قاهره عام رقم . درس و+ تخرج في كليه ال+ هندسه ب+ جامعه عين شمس عام رقم , و+ حصل علي درجه ال+ ماجستير عام رقم , ثم ال+ دكتوراه عام رقم . شغل منصب استاذ هندسه ال+ انشاءات و+ ال+ كباري ب+ جامعه عين شمس , كما شغل منصب رءيس جهاز ال+ تفتيش ال+ فني علي ال+ بناء ب+ وزاره ال+ اسكان و+ ال+ مرافق و+ ال+ مجتمعات ال+ عمرانيه .\n",
       "y: LMLabelList\n",
       ",,,,\n",
       "Path: .;\n",
       "\n",
       "Valid: LabelList (60056 items)\n",
       "x: LMTextList\n",
       "xxbos مبارك xxunk ال+ بلوشي مبارك xxunk هو لاعب كره قدم قطري يلعب في خط ال+ وسط . لعب سابقا مع انديه ال+ ريان و السيليه و ال+ اهلي و قطر و ام صلال و الشحانيه . مبارك xxunk ال+ بلوشي,xxbos عنصر اولي ال+ عنصر ال+ اولي في ال+ رياضيات و+ خاصه في ال+ جبر ال+ مجرد هو عنصر غير صفري دون معاكس رقم من حلقه رقم يولد مثاليا اوليا . و+ يمكن ملاحظه ان + ه عندما + ما يكون رقم xxunk ل+ جداء في رقم , يكون رقم xxunk ل+ احد ال+ عوامل . نجد في ال+ مجال ال+ صحيح ان كل عنصر اولي غير قابل ل+ ال+ اختزال , و+ لكن ال+ عكس لا يتحقق الا في مجالات ال+ تحليل ال+ وحيد . ال+ حلقه رقم , حيث رقم وحده تخيليه , ليست مجال تحليل وحيدا , ف+ حيث ان ال+ عنصر رقم غير قابل ل+ ال+ اختزال , الا ان + ه ليس اوليا , ان + ه قاسم ل+ ال+ جداء رقم , لكن + ه ليس xxunk ل+ اي من عوامل هذا ال+ جداء .,xxbos ثقافه حيويه ثقافه حيويه ثقافه حيويه , و+ تضم ال+ مجالات ال+ مندمجه و+ ال+ مختلفه في ال+ علوم ال+ طبيه و+ ال+ علوم ال+ اجتماعيه و+ دراسات ال+ منطقه , و+ ال+ دراسات و+ ال+ ثقافه , و+ ال+ تكنولوجيا ال+ حيويه , و+ دراسات ال+ عجز او ال+ xxunk , و+ ال+ علوم ال+ انسانيه , و+ ال+ بيءه ال+ اقتصاديه و+ ال+ عالميه . ال+ ثقافه ال+ حيويه تحدد ال+ نشاط و+ توطيد ال+ افكار التي تنشا عندما + ما يتقاطع ال+ انسان مع ال+ تكنولوجيه .,xxbos ريفا xxunk ريفا xxunk هي بلديه في مقاطعه فرشيلي ال+ تابعه ل+ اقليم بييمونتي ال+ ايطالي , تقع علي بعد حوال + ي الي ال+ شمال من مدينه تورينو و+ حوال + ي شمال غرب مدينه فيرتشيلي . تقع ريفا xxunk علي حدود ال+ بلديات ال+ تاليه الانيا xxunk , xxunk , xxunk , راسا , ريما سان جيوسيبي , في بييمونتي xxunk لا ترينيتي xxunk سانت جين عبر ال+ حدود ال+ غربيه الي وادي اوستا .,xxbos براد ديفيز روبرت كريل براد ديفيز , , و+ هو ممثل امريكي اشتهر خلال دور + ه في فيلم سريع في قطار منتصف ال+ ليل\n",
       "y: LMLabelList\n",
       ",,,,\n",
       "Path: .;\n",
       "\n",
       "Test: None, model=SequentialRNN(\n",
       "  (0): AWD_LSTM(\n",
       "    (encoder): Embedding(60006, 400, padding_idx=1)\n",
       "    (encoder_dp): EmbeddingDropout(\n",
       "      (emb): Embedding(60006, 400, padding_idx=1)\n",
       "    )\n",
       "    (rnns): ModuleList(\n",
       "      (0): WeightDropout(\n",
       "        (module): LSTM(400, 1150, batch_first=True)\n",
       "      )\n",
       "      (1): WeightDropout(\n",
       "        (module): LSTM(1150, 1150, batch_first=True)\n",
       "      )\n",
       "      (2): WeightDropout(\n",
       "        (module): LSTM(1150, 400, batch_first=True)\n",
       "      )\n",
       "    )\n",
       "    (input_dp): RNNDropout()\n",
       "    (hidden_dps): ModuleList(\n",
       "      (0): RNNDropout()\n",
       "      (1): RNNDropout()\n",
       "      (2): RNNDropout()\n",
       "    )\n",
       "  )\n",
       "  (1): LinearDecoder(\n",
       "    (decoder): Linear(in_features=400, out_features=60006, bias=True)\n",
       "    (output_dp): RNNDropout()\n",
       "  )\n",
       "), opt_func=functools.partial(<class 'torch.optim.adam.Adam'>, betas=(0.9, 0.99)), loss_func=FlattenedLoss of CrossEntropyLoss(), metrics=[<function accuracy at 0x0000027F4DA08D08>], true_wd=True, bn_wd=True, wd=0.01, train_bn=True, path=WindowsPath('data'), model_dir='models', callback_fns=[functools.partial(<class 'fastai.basic_train.Recorder'>, add_time=True)], callbacks=[RNNTrainer\n",
       "learn: LanguageLearner(data=TextLMDataBunch;\n",
       "\n",
       "Train: LabelList (540503 items)\n",
       "x: LMTextList\n",
       "xxbos روبرت بيكر روبرت بيكر هو سياسي امريكي , ولد في رقم ابريل رقم في ال+ مملكه ال+ متحده , و+ توفي في رقم يونيو رقم ببروكلين في ال+ ولايات ال+ متحده . حزبيا , نشط في ال+ حزب ال+ ديمقراطي . انتخب .,xxbos فيت نغوين نغوين فيت نغوين نغوين هو مدرب كره قدم و+ لاعب كره قدم امريكي في مركز ال+ هجوم . شارك مع . اما مع ال+ نوادي , ف+ قد لعب مع و .,xxbos جوهانس ريتر جوهانس ريتر هو مدرب كره قدم و+ لاعب كره قدم دانمركي في مركز ال+ وسط . لعب مع نادي نوردشيلاند .,xxbos جيري xxunk جيري ريكاردو xxunk بودن هو لاعب كره قدم هندوراسي يجيد ال+ لعب ك+ مهاجم ل+ نادي xxunk ال+ ايراني .,xxbos اسامه عبد ال+ واحد اسامه حمدي عبد ال+ واحد , استاذ جامعي مصري ب+ جامعه عين شمس , و+ محافظ كفر ال+ شيخ ال+ سابق منذ رقم فبراير رقم حتي رقم ديسمبر رقم . ولد اسامه عبد ال+ واحد ب+ ال+ قاهره عام رقم . درس و+ تخرج في كليه ال+ هندسه ب+ جامعه عين شمس عام رقم , و+ حصل علي درجه ال+ ماجستير عام رقم , ثم ال+ دكتوراه عام رقم . شغل منصب استاذ هندسه ال+ انشاءات و+ ال+ كباري ب+ جامعه عين شمس , كما شغل منصب رءيس جهاز ال+ تفتيش ال+ فني علي ال+ بناء ب+ وزاره ال+ اسكان و+ ال+ مرافق و+ ال+ مجتمعات ال+ عمرانيه .\n",
       "y: LMLabelList\n",
       ",,,,\n",
       "Path: .;\n",
       "\n",
       "Valid: LabelList (60056 items)\n",
       "x: LMTextList\n",
       "xxbos مبارك xxunk ال+ بلوشي مبارك xxunk هو لاعب كره قدم قطري يلعب في خط ال+ وسط . لعب سابقا مع انديه ال+ ريان و السيليه و ال+ اهلي و قطر و ام صلال و الشحانيه . مبارك xxunk ال+ بلوشي,xxbos عنصر اولي ال+ عنصر ال+ اولي في ال+ رياضيات و+ خاصه في ال+ جبر ال+ مجرد هو عنصر غير صفري دون معاكس رقم من حلقه رقم يولد مثاليا اوليا . و+ يمكن ملاحظه ان + ه عندما + ما يكون رقم xxunk ل+ جداء في رقم , يكون رقم xxunk ل+ احد ال+ عوامل . نجد في ال+ مجال ال+ صحيح ان كل عنصر اولي غير قابل ل+ ال+ اختزال , و+ لكن ال+ عكس لا يتحقق الا في مجالات ال+ تحليل ال+ وحيد . ال+ حلقه رقم , حيث رقم وحده تخيليه , ليست مجال تحليل وحيدا , ف+ حيث ان ال+ عنصر رقم غير قابل ل+ ال+ اختزال , الا ان + ه ليس اوليا , ان + ه قاسم ل+ ال+ جداء رقم , لكن + ه ليس xxunk ل+ اي من عوامل هذا ال+ جداء .,xxbos ثقافه حيويه ثقافه حيويه ثقافه حيويه , و+ تضم ال+ مجالات ال+ مندمجه و+ ال+ مختلفه في ال+ علوم ال+ طبيه و+ ال+ علوم ال+ اجتماعيه و+ دراسات ال+ منطقه , و+ ال+ دراسات و+ ال+ ثقافه , و+ ال+ تكنولوجيا ال+ حيويه , و+ دراسات ال+ عجز او ال+ xxunk , و+ ال+ علوم ال+ انسانيه , و+ ال+ بيءه ال+ اقتصاديه و+ ال+ عالميه . ال+ ثقافه ال+ حيويه تحدد ال+ نشاط و+ توطيد ال+ افكار التي تنشا عندما + ما يتقاطع ال+ انسان مع ال+ تكنولوجيه .,xxbos ريفا xxunk ريفا xxunk هي بلديه في مقاطعه فرشيلي ال+ تابعه ل+ اقليم بييمونتي ال+ ايطالي , تقع علي بعد حوال + ي الي ال+ شمال من مدينه تورينو و+ حوال + ي شمال غرب مدينه فيرتشيلي . تقع ريفا xxunk علي حدود ال+ بلديات ال+ تاليه الانيا xxunk , xxunk , xxunk , راسا , ريما سان جيوسيبي , في بييمونتي xxunk لا ترينيتي xxunk سانت جين عبر ال+ حدود ال+ غربيه الي وادي اوستا .,xxbos براد ديفيز روبرت كريل براد ديفيز , , و+ هو ممثل امريكي اشتهر خلال دور + ه في فيلم سريع في قطار منتصف ال+ ليل\n",
       "y: LMLabelList\n",
       ",,,,\n",
       "Path: .;\n",
       "\n",
       "Test: None, model=SequentialRNN(\n",
       "  (0): AWD_LSTM(\n",
       "    (encoder): Embedding(60006, 400, padding_idx=1)\n",
       "    (encoder_dp): EmbeddingDropout(\n",
       "      (emb): Embedding(60006, 400, padding_idx=1)\n",
       "    )\n",
       "    (rnns): ModuleList(\n",
       "      (0): WeightDropout(\n",
       "        (module): LSTM(400, 1150, batch_first=True)\n",
       "      )\n",
       "      (1): WeightDropout(\n",
       "        (module): LSTM(1150, 1150, batch_first=True)\n",
       "      )\n",
       "      (2): WeightDropout(\n",
       "        (module): LSTM(1150, 400, batch_first=True)\n",
       "      )\n",
       "    )\n",
       "    (input_dp): RNNDropout()\n",
       "    (hidden_dps): ModuleList(\n",
       "      (0): RNNDropout()\n",
       "      (1): RNNDropout()\n",
       "      (2): RNNDropout()\n",
       "    )\n",
       "  )\n",
       "  (1): LinearDecoder(\n",
       "    (decoder): Linear(in_features=400, out_features=60006, bias=True)\n",
       "    (output_dp): RNNDropout()\n",
       "  )\n",
       "), opt_func=functools.partial(<class 'torch.optim.adam.Adam'>, betas=(0.9, 0.99)), loss_func=FlattenedLoss of CrossEntropyLoss(), metrics=[<function accuracy at 0x0000027F4DA08D08>], true_wd=True, bn_wd=True, wd=0.01, train_bn=True, path=WindowsPath('data'), model_dir='models', callback_fns=[functools.partial(<class 'fastai.basic_train.Recorder'>, add_time=True)], callbacks=[...], layer_groups=[Sequential(\n",
       "  (0): WeightDropout(\n",
       "    (module): LSTM(400, 1150, batch_first=True)\n",
       "  )\n",
       "  (1): RNNDropout()\n",
       "), Sequential(\n",
       "  (0): WeightDropout(\n",
       "    (module): LSTM(1150, 1150, batch_first=True)\n",
       "  )\n",
       "  (1): RNNDropout()\n",
       "), Sequential(\n",
       "  (0): WeightDropout(\n",
       "    (module): LSTM(1150, 400, batch_first=True)\n",
       "  )\n",
       "  (1): RNNDropout()\n",
       "), Sequential(\n",
       "  (0): Embedding(60006, 400, padding_idx=1)\n",
       "  (1): EmbeddingDropout(\n",
       "    (emb): Embedding(60006, 400, padding_idx=1)\n",
       "  )\n",
       "  (2): LinearDecoder(\n",
       "    (decoder): Linear(in_features=400, out_features=60006, bias=True)\n",
       "    (output_dp): RNNDropout()\n",
       "  )\n",
       ")], add_time=True)\n",
       "alpha: 2.0\n",
       "beta: 1.0], layer_groups=[Sequential(\n",
       "  (0): WeightDropout(\n",
       "    (module): LSTM(400, 1150, batch_first=True)\n",
       "  )\n",
       "  (1): RNNDropout()\n",
       "), Sequential(\n",
       "  (0): WeightDropout(\n",
       "    (module): LSTM(1150, 1150, batch_first=True)\n",
       "  )\n",
       "  (1): RNNDropout()\n",
       "), Sequential(\n",
       "  (0): WeightDropout(\n",
       "    (module): LSTM(1150, 400, batch_first=True)\n",
       "  )\n",
       "  (1): RNNDropout()\n",
       "), Sequential(\n",
       "  (0): Embedding(60006, 400, padding_idx=1)\n",
       "  (1): EmbeddingDropout(\n",
       "    (emb): Embedding(60006, 400, padding_idx=1)\n",
       "  )\n",
       "  (2): LinearDecoder(\n",
       "    (decoder): Linear(in_features=400, out_features=60006, bias=True)\n",
       "    (output_dp): RNNDropout()\n",
       "  )\n",
       ")], add_time=True)"
      ]
     },
     "execution_count": 20,
     "metadata": {},
     "output_type": "execute_result"
    }
   ],
   "source": [
    "#learn_lm = load_learner(path / 'data' / 'models', 'Ar-LM_unfreeze_1e-4_after3_2_acc475.pth')\n",
    "learn_lm = language_model_learner(data_lm, AWD_LSTM, drop_mult=0.1, pretrained=False)\n",
    "learn_lm.load('Ar-LM-epoch1-acc43')"
   ]
  },
  {
   "cell_type": "code",
   "execution_count": 66,
   "metadata": {},
   "outputs": [
    {
     "data": {
      "text/plain": [
       "'وتقع دوله الامارات العربيه المتحده في المملكه العربيه السعوديه وتعمل الدوله علي دوله الامارات العربيه المتحده ودوله الامارات ال+'"
      ]
     },
     "execution_count": 66,
     "metadata": {},
     "output_type": "execute_result"
    }
   ],
   "source": [
    "pred = 'و+ تقع دوله'\n",
    "pred = learn_lm.predict(pred, n_words=30, temperature=0.6)\n",
    "pred = pred.replace(' + ', '').replace('+ ', '').replace(' +', '')\n",
    "pred"
   ]
  }
 ],
 "metadata": {
  "kernelspec": {
   "display_name": "Python 3",
   "language": "python",
   "name": "python3"
  },
  "language_info": {
   "codemirror_mode": {
    "name": "ipython",
    "version": 3
   },
   "file_extension": ".py",
   "mimetype": "text/x-python",
   "name": "python",
   "nbconvert_exporter": "python",
   "pygments_lexer": "ipython3",
   "version": "3.6.8"
  }
 },
 "nbformat": 4,
 "nbformat_minor": 2
}
