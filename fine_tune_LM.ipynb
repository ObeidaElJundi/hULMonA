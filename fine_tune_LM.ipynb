{
 "cells": [
  {
   "cell_type": "code",
   "execution_count": 1,
   "metadata": {},
   "outputs": [],
   "source": [
    "%reload_ext autoreload\n",
    "%autoreload 2\n",
    "%matplotlib inline"
   ]
  },
  {
   "cell_type": "code",
   "execution_count": 2,
   "metadata": {},
   "outputs": [],
   "source": [
    "from fastai import *\n",
    "from fastai.text import *"
   ]
  },
  {
   "cell_type": "code",
   "execution_count": 3,
   "metadata": {},
   "outputs": [
    {
     "data": {
      "text/plain": [
       "[WindowsPath('.ipynb_checkpoints'),\n",
       " WindowsPath('build_arabic_language_model.ipynb'),\n",
       " WindowsPath('data'),\n",
       " WindowsPath('fine_tune_LM.ipynb'),\n",
       " WindowsPath('models')]"
      ]
     },
     "execution_count": 3,
     "metadata": {},
     "output_type": "execute_result"
    }
   ],
   "source": [
    "path = Path('.')\n",
    "path.ls()"
   ]
  },
  {
   "cell_type": "markdown",
   "metadata": {},
   "source": [
    "## prepare data for MADAMIRA"
   ]
  },
  {
   "cell_type": "code",
   "execution_count": 4,
   "metadata": {},
   "outputs": [
    {
     "name": "stdout",
     "output_type": "stream",
     "text": [
      "(؟:\\]÷»“>\\-؛×\\`$–~\"…=¦%'&;|,?@*«<_!.#}،”\\[)\\^/ـ{\n"
     ]
    }
   ],
   "source": [
    "import string\n",
    "\n",
    "#preparing punctuations list\n",
    "arabic_punctuations = '''`÷×؛<>_()*&^%][ـ،/:\"؟.,'{}~¦+|!”…“–ـ«»'''\n",
    "english_punctuations = string.punctuation\n",
    "punc_to_remove = ''.join(set(arabic_punctuations + english_punctuations))\n",
    "punc_to_keep = '+'\n",
    "punc_to_escape = '''[]-^'''\n",
    "for p in punc_to_keep: punc_to_remove = punc_to_remove.replace(p, '')\n",
    "for p in punc_to_escape: punc_to_remove = punc_to_remove.replace(p, '\\\\{}'.format(p))\n",
    "print(punc_to_remove)\n",
    "\n",
    "def pre_process(text):\n",
    "    text = text.replace('\\\\n', ' ').replace('\\n', ' ')\n",
    "    text = text.replace('؛', '،')\n",
    "    text = re.sub(r'\\([^)]+\\)', '', text)  # remove parentheses and everything in between\n",
    "    text = re.sub(r'[a-zA-Z]', '', text)  # remove non-arabic characters\n",
    "    text = re.sub(r'\\d+(\\.\\d+)?', ' رقم ', text)  # replace numbers by special token\n",
    "    for p in punc_to_remove: text = text.replace(p, '')  # remove punctuations\n",
    "    text = re.sub(r'(.)\\1{2,}', r'\\1', text)  # remove repeated chars\n",
    "    text = re.sub(r'\\s+', r' ', text)\n",
    "    return text"
   ]
  },
  {
   "cell_type": "markdown",
   "metadata": {},
   "source": [
    "__AJGT__"
   ]
  },
  {
   "cell_type": "code",
   "execution_count": 5,
   "metadata": {},
   "outputs": [
    {
     "data": {
      "text/html": [
       "<div>\n",
       "<style scoped>\n",
       "    .dataframe tbody tr th:only-of-type {\n",
       "        vertical-align: middle;\n",
       "    }\n",
       "\n",
       "    .dataframe tbody tr th {\n",
       "        vertical-align: top;\n",
       "    }\n",
       "\n",
       "    .dataframe thead th {\n",
       "        text-align: right;\n",
       "    }\n",
       "</style>\n",
       "<table border=\"1\" class=\"dataframe\">\n",
       "  <thead>\n",
       "    <tr style=\"text-align: right;\">\n",
       "      <th></th>\n",
       "      <th>ID</th>\n",
       "      <th>Feed</th>\n",
       "      <th>Sentiment</th>\n",
       "    </tr>\n",
       "  </thead>\n",
       "  <tbody>\n",
       "    <tr>\n",
       "      <th>0</th>\n",
       "      <td>1</td>\n",
       "      <td>اربد فيها جامعات اكثر من عمان ... وفيها قد عم...</td>\n",
       "      <td>Positive</td>\n",
       "    </tr>\n",
       "    <tr>\n",
       "      <th>1</th>\n",
       "      <td>2</td>\n",
       "      <td>الحلو انكم بتحكوا على اساس انو الاردن ما فيه ...</td>\n",
       "      <td>Negative</td>\n",
       "    </tr>\n",
       "    <tr>\n",
       "      <th>2</th>\n",
       "      <td>3</td>\n",
       "      <td>كله رائع بجد ربنا يكرمك</td>\n",
       "      <td>Positive</td>\n",
       "    </tr>\n",
       "    <tr>\n",
       "      <th>3</th>\n",
       "      <td>4</td>\n",
       "      <td>لسانك قذر يا قمامه</td>\n",
       "      <td>Negative</td>\n",
       "    </tr>\n",
       "    <tr>\n",
       "      <th>4</th>\n",
       "      <td>5</td>\n",
       "      <td>​انا داشره وغير متزوجه ولدي علاقات مشبوه واحشش...</td>\n",
       "      <td>Negative</td>\n",
       "    </tr>\n",
       "  </tbody>\n",
       "</table>\n",
       "</div>"
      ],
      "text/plain": [
       "   ID                                               Feed Sentiment\n",
       "0   1   اربد فيها جامعات اكثر من عمان ... وفيها قد عم...  Positive\n",
       "1   2   الحلو انكم بتحكوا على اساس انو الاردن ما فيه ...  Negative\n",
       "2   3                            كله رائع بجد ربنا يكرمك  Positive\n",
       "3   4                                 لسانك قذر يا قمامه  Negative\n",
       "4   5  ​انا داشره وغير متزوجه ولدي علاقات مشبوه واحشش...  Negative"
      ]
     },
     "execution_count": 5,
     "metadata": {},
     "output_type": "execute_result"
    }
   ],
   "source": [
    "df = pd.read_excel(path/'data'/'AJGT.xlsx')\n",
    "df.head()"
   ]
  },
  {
   "cell_type": "code",
   "execution_count": 7,
   "metadata": {},
   "outputs": [],
   "source": [
    "df.Feed.to_csv(path/'data'/'AJGT_text_only.txt', header=False, index=False)"
   ]
  },
  {
   "cell_type": "markdown",
   "metadata": {},
   "source": [
    "MADAMIRA:\n",
    "`\n",
    "C:\\Users\\oae15\\Downloads\\JDK64\\bin\\java.exe -Xmx3000m -Xms3000m -XX:NewRatio=3 -jar MADAMIRA-release-20170403-2.1.jar -rawinput \"C:\\Python\\Python36\\coding4fun\\Notebooks\\fastai\\for research\\Ar_LM\\data\\AJGT_text_only.txt\" -rawoutdir .\\samples\\output -rawconfig .\\samples\\sampleConfigFile.xml -msaonly\n",
    "`"
   ]
  },
  {
   "cell_type": "code",
   "execution_count": 9,
   "metadata": {},
   "outputs": [
    {
     "data": {
      "text/html": [
       "<div>\n",
       "<style scoped>\n",
       "    .dataframe tbody tr th:only-of-type {\n",
       "        vertical-align: middle;\n",
       "    }\n",
       "\n",
       "    .dataframe tbody tr th {\n",
       "        vertical-align: top;\n",
       "    }\n",
       "\n",
       "    .dataframe thead th {\n",
       "        text-align: right;\n",
       "    }\n",
       "</style>\n",
       "<table border=\"1\" class=\"dataframe\">\n",
       "  <thead>\n",
       "    <tr style=\"text-align: right;\">\n",
       "      <th></th>\n",
       "      <th>processed_text</th>\n",
       "    </tr>\n",
       "  </thead>\n",
       "  <tbody>\n",
       "    <tr>\n",
       "      <th>0</th>\n",
       "      <td>اربد  في +ها جامعات  اكثر  من  عمان  .  .  . ...</td>\n",
       "    </tr>\n",
       "    <tr>\n",
       "      <th>1</th>\n",
       "      <td>ال+ حلو  ان +كم بتحكوا  علي  اساس  انو  ال+ ا...</td>\n",
       "    </tr>\n",
       "    <tr>\n",
       "      <th>2</th>\n",
       "      <td>كل +ه راءع  ب+ جد  رب +نا يكرم +ك</td>\n",
       "    </tr>\n",
       "    <tr>\n",
       "      <th>3</th>\n",
       "      <td>لسان +ك قذر  يا  قمامه</td>\n",
       "    </tr>\n",
       "    <tr>\n",
       "      <th>4</th>\n",
       "      <td>انا  داشره  و+ غير  متزوجه  و+ لدي  علاقات  م...</td>\n",
       "    </tr>\n",
       "  </tbody>\n",
       "</table>\n",
       "</div>"
      ],
      "text/plain": [
       "                                      processed_text\n",
       "0   اربد  في +ها جامعات  اكثر  من  عمان  .  .  . ...\n",
       "1   ال+ حلو  ان +كم بتحكوا  علي  اساس  انو  ال+ ا...\n",
       "2                  كل +ه راءع  ب+ جد  رب +نا يكرم +ك\n",
       "3                             لسان +ك قذر  يا  قمامه\n",
       "4   انا  داشره  و+ غير  متزوجه  و+ لدي  علاقات  م..."
      ]
     },
     "execution_count": 9,
     "metadata": {},
     "output_type": "execute_result"
    }
   ],
   "source": [
    "df_mada = pd.read_csv(path/'data'/'AJGT_text_only_processed.txt', sep='\\t', header=None, names=['processed_text'])\n",
    "df_mada.head()"
   ]
  },
  {
   "cell_type": "code",
   "execution_count": 11,
   "metadata": {},
   "outputs": [],
   "source": [
    "df.drop(columns=['ID'], inplace=True)\n",
    "df.Feed = df_mada.processed_text\n",
    "df.to_csv(path/'data'/'AJGT_final.csv', index=False)"
   ]
  },
  {
   "cell_type": "markdown",
   "metadata": {},
   "source": [
    "__ArTwitter__"
   ]
  },
  {
   "cell_type": "code",
   "execution_count": 38,
   "metadata": {},
   "outputs": [
    {
     "data": {
      "text/html": [
       "<div>\n",
       "<style scoped>\n",
       "    .dataframe tbody tr th:only-of-type {\n",
       "        vertical-align: middle;\n",
       "    }\n",
       "\n",
       "    .dataframe tbody tr th {\n",
       "        vertical-align: top;\n",
       "    }\n",
       "\n",
       "    .dataframe thead th {\n",
       "        text-align: right;\n",
       "    }\n",
       "</style>\n",
       "<table border=\"1\" class=\"dataframe\">\n",
       "  <thead>\n",
       "    <tr style=\"text-align: right;\">\n",
       "      <th></th>\n",
       "      <th>sentiment</th>\n",
       "      <th>txt</th>\n",
       "    </tr>\n",
       "  </thead>\n",
       "  <tbody>\n",
       "    <tr>\n",
       "      <th>0</th>\n",
       "      <td>1</td>\n",
       "      <td>انشاء الله هنعمل حاجه</td>\n",
       "    </tr>\n",
       "    <tr>\n",
       "      <th>1</th>\n",
       "      <td>0</td>\n",
       "      <td>اقسم باللله ان العرب اكثر الشعوب تخلفاا</td>\n",
       "    </tr>\n",
       "    <tr>\n",
       "      <th>2</th>\n",
       "      <td>0</td>\n",
       "      <td>﻿هات ناس تفهم .. و المثل بحكي اسأل مجرب و لا ت...</td>\n",
       "    </tr>\n",
       "    <tr>\n",
       "      <th>3</th>\n",
       "      <td>0</td>\n",
       "      <td>صرماتي براس اهلك</td>\n",
       "    </tr>\n",
       "    <tr>\n",
       "      <th>4</th>\n",
       "      <td>0</td>\n",
       "      <td>حرام السخرية من الناس</td>\n",
       "    </tr>\n",
       "  </tbody>\n",
       "</table>\n",
       "</div>"
      ],
      "text/plain": [
       "   sentiment                                                txt\n",
       "0          1                              انشاء الله هنعمل حاجه\n",
       "1          0            اقسم باللله ان العرب اكثر الشعوب تخلفاا\n",
       "2          0  ﻿هات ناس تفهم .. و المثل بحكي اسأل مجرب و لا ت...\n",
       "3          0                                   صرماتي براس اهلك\n",
       "4          0                              حرام السخرية من الناس"
      ]
     },
     "execution_count": 38,
     "metadata": {},
     "output_type": "execute_result"
    }
   ],
   "source": [
    "df = pd.read_csv(path/'data'/'artwitter.csv')\n",
    "df.head()"
   ]
  },
  {
   "cell_type": "code",
   "execution_count": 39,
   "metadata": {},
   "outputs": [
    {
     "data": {
      "text/plain": [
       "1    1771\n",
       "0    1771\n",
       "Name: sentiment, dtype: int64"
      ]
     },
     "execution_count": 39,
     "metadata": {},
     "output_type": "execute_result"
    }
   ],
   "source": [
    "df.sentiment.value_counts() # balanced"
   ]
  },
  {
   "cell_type": "code",
   "execution_count": 42,
   "metadata": {},
   "outputs": [],
   "source": [
    "df.txt.to_csv(path/'data'/'artwitter_text_only.txt', header=False, index=False)"
   ]
  },
  {
   "cell_type": "markdown",
   "metadata": {},
   "source": [
    "MADAMIRA..."
   ]
  },
  {
   "cell_type": "code",
   "execution_count": 43,
   "metadata": {},
   "outputs": [
    {
     "data": {
      "text/html": [
       "<div>\n",
       "<style scoped>\n",
       "    .dataframe tbody tr th:only-of-type {\n",
       "        vertical-align: middle;\n",
       "    }\n",
       "\n",
       "    .dataframe tbody tr th {\n",
       "        vertical-align: top;\n",
       "    }\n",
       "\n",
       "    .dataframe thead th {\n",
       "        text-align: right;\n",
       "    }\n",
       "</style>\n",
       "<table border=\"1\" class=\"dataframe\">\n",
       "  <thead>\n",
       "    <tr style=\"text-align: right;\">\n",
       "      <th></th>\n",
       "      <th>processed_text</th>\n",
       "    </tr>\n",
       "  </thead>\n",
       "  <tbody>\n",
       "    <tr>\n",
       "      <th>0</th>\n",
       "      <td>انشاء  الله  هنعمل  حاج +ه</td>\n",
       "    </tr>\n",
       "    <tr>\n",
       "      <th>1</th>\n",
       "      <td>اقسم  بال +ه ان  ال+ عرب  اكثر  ال+ شعوب  تخلفا</td>\n",
       "    </tr>\n",
       "    <tr>\n",
       "      <th>2</th>\n",
       "      <td>هات  ناس  تفهم  .  .  و  ال+ مثل  ب+ حك +ي اس...</td>\n",
       "    </tr>\n",
       "    <tr>\n",
       "      <th>3</th>\n",
       "      <td>صرماتي  ب+ راس  اهل +ك</td>\n",
       "    </tr>\n",
       "    <tr>\n",
       "      <th>4</th>\n",
       "      <td>حرام  ال+ سخريه  من  ال+ ناس</td>\n",
       "    </tr>\n",
       "  </tbody>\n",
       "</table>\n",
       "</div>"
      ],
      "text/plain": [
       "                                      processed_text\n",
       "0                         انشاء  الله  هنعمل  حاج +ه\n",
       "1    اقسم  بال +ه ان  ال+ عرب  اكثر  ال+ شعوب  تخلفا\n",
       "2   هات  ناس  تفهم  .  .  و  ال+ مثل  ب+ حك +ي اس...\n",
       "3                             صرماتي  ب+ راس  اهل +ك\n",
       "4                       حرام  ال+ سخريه  من  ال+ ناس"
      ]
     },
     "execution_count": 43,
     "metadata": {},
     "output_type": "execute_result"
    }
   ],
   "source": [
    "df_mada = pd.read_csv(path/'data'/'artwitter_text_only_processed.txt', sep='\\t', header=None, names=['processed_text'])\n",
    "df_mada.head()"
   ]
  },
  {
   "cell_type": "code",
   "execution_count": 44,
   "metadata": {},
   "outputs": [],
   "source": [
    "df.txt = df_mada.processed_text\n",
    "df.to_csv(path/'data'/'ArTwitter_final.csv', index=False)"
   ]
  },
  {
   "cell_type": "code",
   "execution_count": 47,
   "metadata": {},
   "outputs": [
    {
     "data": {
      "text/html": [
       "<div>\n",
       "<style scoped>\n",
       "    .dataframe tbody tr th:only-of-type {\n",
       "        vertical-align: middle;\n",
       "    }\n",
       "\n",
       "    .dataframe tbody tr th {\n",
       "        vertical-align: top;\n",
       "    }\n",
       "\n",
       "    .dataframe thead th {\n",
       "        text-align: right;\n",
       "    }\n",
       "</style>\n",
       "<table border=\"1\" class=\"dataframe\">\n",
       "  <thead>\n",
       "    <tr style=\"text-align: right;\">\n",
       "      <th></th>\n",
       "      <th>sentiment</th>\n",
       "      <th>txt</th>\n",
       "    </tr>\n",
       "  </thead>\n",
       "  <tbody>\n",
       "    <tr>\n",
       "      <th>0</th>\n",
       "      <td>1</td>\n",
       "      <td>انشاء  الله  هنعمل  حاج +ه</td>\n",
       "    </tr>\n",
       "    <tr>\n",
       "      <th>1</th>\n",
       "      <td>0</td>\n",
       "      <td>اقسم  بال +ه ان  ال+ عرب  اكثر  ال+ شعوب  تخلفا</td>\n",
       "    </tr>\n",
       "    <tr>\n",
       "      <th>2</th>\n",
       "      <td>0</td>\n",
       "      <td>هات  ناس  تفهم  .  .  و  ال+ مثل  ب+ حك +ي اس...</td>\n",
       "    </tr>\n",
       "    <tr>\n",
       "      <th>3</th>\n",
       "      <td>0</td>\n",
       "      <td>صرماتي  ب+ راس  اهل +ك</td>\n",
       "    </tr>\n",
       "    <tr>\n",
       "      <th>4</th>\n",
       "      <td>0</td>\n",
       "      <td>حرام  ال+ سخريه  من  ال+ ناس</td>\n",
       "    </tr>\n",
       "  </tbody>\n",
       "</table>\n",
       "</div>"
      ],
      "text/plain": [
       "   sentiment                                                txt\n",
       "0          1                         انشاء  الله  هنعمل  حاج +ه\n",
       "1          0    اقسم  بال +ه ان  ال+ عرب  اكثر  ال+ شعوب  تخلفا\n",
       "2          0   هات  ناس  تفهم  .  .  و  ال+ مثل  ب+ حك +ي اس...\n",
       "3          0                             صرماتي  ب+ راس  اهل +ك\n",
       "4          0                       حرام  ال+ سخريه  من  ال+ ناس"
      ]
     },
     "execution_count": 47,
     "metadata": {},
     "output_type": "execute_result"
    }
   ],
   "source": [
    "df.head()"
   ]
  },
  {
   "cell_type": "markdown",
   "metadata": {},
   "source": [
    "__ASTD__"
   ]
  },
  {
   "cell_type": "code",
   "execution_count": 20,
   "metadata": {},
   "outputs": [
    {
     "data": {
      "text/html": [
       "<div>\n",
       "<style scoped>\n",
       "    .dataframe tbody tr th:only-of-type {\n",
       "        vertical-align: middle;\n",
       "    }\n",
       "\n",
       "    .dataframe tbody tr th {\n",
       "        vertical-align: top;\n",
       "    }\n",
       "\n",
       "    .dataframe thead th {\n",
       "        text-align: right;\n",
       "    }\n",
       "</style>\n",
       "<table border=\"1\" class=\"dataframe\">\n",
       "  <thead>\n",
       "    <tr style=\"text-align: right;\">\n",
       "      <th></th>\n",
       "      <th>category</th>\n",
       "      <th>text</th>\n",
       "    </tr>\n",
       "  </thead>\n",
       "  <tbody>\n",
       "    <tr>\n",
       "      <th>0</th>\n",
       "      <td>OBJ</td>\n",
       "      <td>بعد استقالة رئيس #المحكمة_الدستورية ننتظر استق...</td>\n",
       "    </tr>\n",
       "    <tr>\n",
       "      <th>1</th>\n",
       "      <td>POS</td>\n",
       "      <td>أهنئ الدكتور أحمد جمال الدين، القيادي بحزب مصر...</td>\n",
       "    </tr>\n",
       "    <tr>\n",
       "      <th>2</th>\n",
       "      <td>NEG</td>\n",
       "      <td>البرادعي يستقوى بامريكا مرةاخرى و يرسل عصام ال...</td>\n",
       "    </tr>\n",
       "    <tr>\n",
       "      <th>3</th>\n",
       "      <td>OBJ</td>\n",
       "      <td>#الحرية_والعدالة | شاهد الآن: #ليلة_الاتحادية ...</td>\n",
       "    </tr>\n",
       "    <tr>\n",
       "      <th>4</th>\n",
       "      <td>NEUTRAL</td>\n",
       "      <td>الوالدة لو اقولها بخاطري حشيشة تضحك بس من اقول...</td>\n",
       "    </tr>\n",
       "  </tbody>\n",
       "</table>\n",
       "</div>"
      ],
      "text/plain": [
       "  category                                               text\n",
       "0      OBJ  بعد استقالة رئيس #المحكمة_الدستورية ننتظر استق...\n",
       "1      POS  أهنئ الدكتور أحمد جمال الدين، القيادي بحزب مصر...\n",
       "2      NEG  البرادعي يستقوى بامريكا مرةاخرى و يرسل عصام ال...\n",
       "3      OBJ  #الحرية_والعدالة | شاهد الآن: #ليلة_الاتحادية ...\n",
       "4  NEUTRAL  الوالدة لو اقولها بخاطري حشيشة تضحك بس من اقول..."
      ]
     },
     "execution_count": 20,
     "metadata": {},
     "output_type": "execute_result"
    }
   ],
   "source": [
    "df = pd.read_csv(path/'data'/'ASTD.csv')\n",
    "df.head()"
   ]
  },
  {
   "cell_type": "code",
   "execution_count": 21,
   "metadata": {},
   "outputs": [
    {
     "data": {
      "text/plain": [
       "OBJ        6691\n",
       "NEG        1684\n",
       "NEUTRAL     832\n",
       "POS         799\n",
       "Name: category, dtype: int64"
      ]
     },
     "execution_count": 21,
     "metadata": {},
     "output_type": "execute_result"
    }
   ],
   "source": [
    "df.category.value_counts() # unbalanced"
   ]
  },
  {
   "cell_type": "code",
   "execution_count": 22,
   "metadata": {},
   "outputs": [
    {
     "data": {
      "text/html": [
       "<div>\n",
       "<style scoped>\n",
       "    .dataframe tbody tr th:only-of-type {\n",
       "        vertical-align: middle;\n",
       "    }\n",
       "\n",
       "    .dataframe tbody tr th {\n",
       "        vertical-align: top;\n",
       "    }\n",
       "\n",
       "    .dataframe thead th {\n",
       "        text-align: right;\n",
       "    }\n",
       "</style>\n",
       "<table border=\"1\" class=\"dataframe\">\n",
       "  <thead>\n",
       "    <tr style=\"text-align: right;\">\n",
       "      <th></th>\n",
       "      <th>category</th>\n",
       "      <th>text</th>\n",
       "    </tr>\n",
       "  </thead>\n",
       "  <tbody>\n",
       "    <tr>\n",
       "      <th>0</th>\n",
       "      <td>-2</td>\n",
       "      <td>بعد استقالة رئيس المحكمة الدستورية ننتظر استقا...</td>\n",
       "    </tr>\n",
       "    <tr>\n",
       "      <th>1</th>\n",
       "      <td>1</td>\n",
       "      <td>أهنئ الدكتور أحمد جمال الدين القيادي بحزب مصر ...</td>\n",
       "    </tr>\n",
       "    <tr>\n",
       "      <th>2</th>\n",
       "      <td>-1</td>\n",
       "      <td>البرادعي يستقوى بامريكا مرةاخرى و يرسل عصام ال...</td>\n",
       "    </tr>\n",
       "    <tr>\n",
       "      <th>3</th>\n",
       "      <td>-2</td>\n",
       "      <td>الحرية والعدالة شاهد الآن ليلة الاتحادية أول ف...</td>\n",
       "    </tr>\n",
       "    <tr>\n",
       "      <th>4</th>\n",
       "      <td>0</td>\n",
       "      <td>الوالدة لو اقولها بخاطري حشيشة تضحك بس من اقول...</td>\n",
       "    </tr>\n",
       "  </tbody>\n",
       "</table>\n",
       "</div>"
      ],
      "text/plain": [
       "   category                                               text\n",
       "0        -2  بعد استقالة رئيس المحكمة الدستورية ننتظر استقا...\n",
       "1         1  أهنئ الدكتور أحمد جمال الدين القيادي بحزب مصر ...\n",
       "2        -1  البرادعي يستقوى بامريكا مرةاخرى و يرسل عصام ال...\n",
       "3        -2  الحرية والعدالة شاهد الآن ليلة الاتحادية أول ف...\n",
       "4         0  الوالدة لو اقولها بخاطري حشيشة تضحك بس من اقول..."
      ]
     },
     "execution_count": 22,
     "metadata": {},
     "output_type": "execute_result"
    }
   ],
   "source": [
    "df.category = df.category.replace({'NEUTRAL':0, 'POS':1, 'NEG':-1, 'OBJ':-2})\n",
    "df.text = df.text.apply(lambda x: pre_process(x.replace('_',' ')))\n",
    "df.head()"
   ]
  },
  {
   "cell_type": "code",
   "execution_count": 23,
   "metadata": {},
   "outputs": [],
   "source": [
    "df.text.to_csv(path/'data'/'ASTD_text_only.txt', header=False, index=False)"
   ]
  },
  {
   "cell_type": "markdown",
   "metadata": {},
   "source": [
    "MADAMIRA..."
   ]
  },
  {
   "cell_type": "code",
   "execution_count": 24,
   "metadata": {},
   "outputs": [
    {
     "data": {
      "text/html": [
       "<div>\n",
       "<style scoped>\n",
       "    .dataframe tbody tr th:only-of-type {\n",
       "        vertical-align: middle;\n",
       "    }\n",
       "\n",
       "    .dataframe tbody tr th {\n",
       "        vertical-align: top;\n",
       "    }\n",
       "\n",
       "    .dataframe thead th {\n",
       "        text-align: right;\n",
       "    }\n",
       "</style>\n",
       "<table border=\"1\" class=\"dataframe\">\n",
       "  <thead>\n",
       "    <tr style=\"text-align: right;\">\n",
       "      <th></th>\n",
       "      <th>processed_text</th>\n",
       "    </tr>\n",
       "  </thead>\n",
       "  <tbody>\n",
       "    <tr>\n",
       "      <th>0</th>\n",
       "      <td>بعد  استقاله  رءيس  ال+ محكمه  ال+ دستوريه  ن...</td>\n",
       "    </tr>\n",
       "    <tr>\n",
       "      <th>1</th>\n",
       "      <td>اهنء  ال+ دكتور  احمد  جمال  ال+ دين  ال+ قيا...</td>\n",
       "    </tr>\n",
       "    <tr>\n",
       "      <th>2</th>\n",
       "      <td>ال+ برادعي  يستقوي  ب+ امريكا  مره  اخري  و  ...</td>\n",
       "    </tr>\n",
       "    <tr>\n",
       "      <th>3</th>\n",
       "      <td>ال+ حريه  و+ ال+ عداله  شاهد  ال+ ان  ليله  ا...</td>\n",
       "    </tr>\n",
       "    <tr>\n",
       "      <th>4</th>\n",
       "      <td>ال+ والده  لو  اقول +ها ب+ خاطري  حشيشه  تضحك...</td>\n",
       "    </tr>\n",
       "  </tbody>\n",
       "</table>\n",
       "</div>"
      ],
      "text/plain": [
       "                                      processed_text\n",
       "0   بعد  استقاله  رءيس  ال+ محكمه  ال+ دستوريه  ن...\n",
       "1   اهنء  ال+ دكتور  احمد  جمال  ال+ دين  ال+ قيا...\n",
       "2   ال+ برادعي  يستقوي  ب+ امريكا  مره  اخري  و  ...\n",
       "3   ال+ حريه  و+ ال+ عداله  شاهد  ال+ ان  ليله  ا...\n",
       "4   ال+ والده  لو  اقول +ها ب+ خاطري  حشيشه  تضحك..."
      ]
     },
     "execution_count": 24,
     "metadata": {},
     "output_type": "execute_result"
    }
   ],
   "source": [
    "df_mada = pd.read_csv(path/'data'/'ASTD_text_only_processed.txt', sep='\\t', header=None, names=['processed_text'])\n",
    "df_mada.head()"
   ]
  },
  {
   "cell_type": "code",
   "execution_count": 25,
   "metadata": {},
   "outputs": [],
   "source": [
    "df.text = df_mada.processed_text\n",
    "df.to_csv(path/'data'/'ASTD_final.csv', index=False)"
   ]
  },
  {
   "cell_type": "markdown",
   "metadata": {},
   "source": [
    "__ASTD-B__"
   ]
  },
  {
   "cell_type": "code",
   "execution_count": 15,
   "metadata": {},
   "outputs": [
    {
     "data": {
      "text/html": [
       "<div>\n",
       "<style scoped>\n",
       "    .dataframe tbody tr th:only-of-type {\n",
       "        vertical-align: middle;\n",
       "    }\n",
       "\n",
       "    .dataframe tbody tr th {\n",
       "        vertical-align: top;\n",
       "    }\n",
       "\n",
       "    .dataframe thead th {\n",
       "        text-align: right;\n",
       "    }\n",
       "</style>\n",
       "<table border=\"1\" class=\"dataframe\">\n",
       "  <thead>\n",
       "    <tr style=\"text-align: right;\">\n",
       "      <th></th>\n",
       "      <th>text</th>\n",
       "      <th>polarity</th>\n",
       "    </tr>\n",
       "  </thead>\n",
       "  <tbody>\n",
       "    <tr>\n",
       "      <th>0</th>\n",
       "      <td>اهنئ الدكتور احمد جمال الدين القيادي بحزب مصر ...</td>\n",
       "      <td>1</td>\n",
       "    </tr>\n",
       "    <tr>\n",
       "      <th>1</th>\n",
       "      <td>امير عيد هو اللي فعلا يتقال عليه ستريكر صريح ك...</td>\n",
       "      <td>1</td>\n",
       "    </tr>\n",
       "    <tr>\n",
       "      <th>2</th>\n",
       "      <td>الصداقه تزرع الحياه ازهارا مي زياده</td>\n",
       "      <td>1</td>\n",
       "    </tr>\n",
       "    <tr>\n",
       "      <th>3</th>\n",
       "      <td>دضياء رشوان ان الدكتور عبد المنعم ابو الفتوح ا...</td>\n",
       "      <td>1</td>\n",
       "    </tr>\n",
       "    <tr>\n",
       "      <th>4</th>\n",
       "      <td>الى زملائي المحامين الراغبين في الانضمام لمباد...</td>\n",
       "      <td>1</td>\n",
       "    </tr>\n",
       "  </tbody>\n",
       "</table>\n",
       "</div>"
      ],
      "text/plain": [
       "                                                text  polarity\n",
       "0  اهنئ الدكتور احمد جمال الدين القيادي بحزب مصر ...         1\n",
       "1  امير عيد هو اللي فعلا يتقال عليه ستريكر صريح ك...         1\n",
       "2                الصداقه تزرع الحياه ازهارا مي زياده         1\n",
       "3  دضياء رشوان ان الدكتور عبد المنعم ابو الفتوح ا...         1\n",
       "4  الى زملائي المحامين الراغبين في الانضمام لمباد...         1"
      ]
     },
     "execution_count": 15,
     "metadata": {},
     "output_type": "execute_result"
    }
   ],
   "source": [
    "df = pd.read_csv(path/'data'/'ASTD-B-utf8.csv', encoding='Windows-1256')\n",
    "df.head()\n",
    "\n",
    "#with open(path/'data'/'ASTD-B.csv', encoding='Windows-1256') as file:\n",
    "#    print(file.readlines()[:5])"
   ]
  },
  {
   "cell_type": "code",
   "execution_count": 17,
   "metadata": {},
   "outputs": [
    {
     "data": {
      "text/plain": [
       " 1    665\n",
       "-1    665\n",
       "Name: polarity, dtype: int64"
      ]
     },
     "execution_count": 17,
     "metadata": {},
     "output_type": "execute_result"
    }
   ],
   "source": [
    "df.polarity.value_counts() # balanced"
   ]
  },
  {
   "cell_type": "code",
   "execution_count": 19,
   "metadata": {},
   "outputs": [],
   "source": [
    "df.text.to_csv(path/'data'/'ASTD-B_text_only.txt', header=False, index=False)"
   ]
  },
  {
   "cell_type": "markdown",
   "metadata": {},
   "source": [
    "MADAMIRA..."
   ]
  },
  {
   "cell_type": "code",
   "execution_count": 20,
   "metadata": {},
   "outputs": [
    {
     "data": {
      "text/html": [
       "<div>\n",
       "<style scoped>\n",
       "    .dataframe tbody tr th:only-of-type {\n",
       "        vertical-align: middle;\n",
       "    }\n",
       "\n",
       "    .dataframe tbody tr th {\n",
       "        vertical-align: top;\n",
       "    }\n",
       "\n",
       "    .dataframe thead th {\n",
       "        text-align: right;\n",
       "    }\n",
       "</style>\n",
       "<table border=\"1\" class=\"dataframe\">\n",
       "  <thead>\n",
       "    <tr style=\"text-align: right;\">\n",
       "      <th></th>\n",
       "      <th>processed_text</th>\n",
       "    </tr>\n",
       "  </thead>\n",
       "  <tbody>\n",
       "    <tr>\n",
       "      <th>0</th>\n",
       "      <td>اهنء  ال+ دكتور  احمد  جمال  ال+ دين  ال+ قيا...</td>\n",
       "    </tr>\n",
       "    <tr>\n",
       "      <th>1</th>\n",
       "      <td>امير  عيد  هو  ال+ لي  فعلا  يتقال  علي +ه ست...</td>\n",
       "    </tr>\n",
       "    <tr>\n",
       "      <th>2</th>\n",
       "      <td>ال+ صداقه  تزرع  ال+ حياه  ازهارا  مي  زياده</td>\n",
       "    </tr>\n",
       "    <tr>\n",
       "      <th>3</th>\n",
       "      <td>دضياء  رشوان  ان  ال+ دكتور  عبد  ال+ منعم  ا...</td>\n",
       "    </tr>\n",
       "    <tr>\n",
       "      <th>4</th>\n",
       "      <td>الي  زملاء +ي ال+ محامين  ال+ راغبين  في  ال+...</td>\n",
       "    </tr>\n",
       "  </tbody>\n",
       "</table>\n",
       "</div>"
      ],
      "text/plain": [
       "                                      processed_text\n",
       "0   اهنء  ال+ دكتور  احمد  جمال  ال+ دين  ال+ قيا...\n",
       "1   امير  عيد  هو  ال+ لي  فعلا  يتقال  علي +ه ست...\n",
       "2       ال+ صداقه  تزرع  ال+ حياه  ازهارا  مي  زياده\n",
       "3   دضياء  رشوان  ان  ال+ دكتور  عبد  ال+ منعم  ا...\n",
       "4   الي  زملاء +ي ال+ محامين  ال+ راغبين  في  ال+..."
      ]
     },
     "execution_count": 20,
     "metadata": {},
     "output_type": "execute_result"
    }
   ],
   "source": [
    "df_mada = pd.read_csv(path/'data'/'ASTD-B_text_only_processed.txt', sep='\\t', header=None, names=['processed_text'])\n",
    "df_mada.head()"
   ]
  },
  {
   "cell_type": "code",
   "execution_count": 22,
   "metadata": {},
   "outputs": [],
   "source": [
    "df.text = df_mada.processed_text\n",
    "df.to_csv(path/'data'/'ASTD-B_final.csv', index=False)"
   ]
  },
  {
   "cell_type": "markdown",
   "metadata": {},
   "source": [
    "__ArSenTD-LEV__\n",
    " - remove punctuations (except +)\n",
    " - replace numbers by رقم\n",
    " - remove consecutive spaces"
   ]
  },
  {
   "cell_type": "code",
   "execution_count": 5,
   "metadata": {},
   "outputs": [
    {
     "data": {
      "text/html": [
       "<div>\n",
       "<style scoped>\n",
       "    .dataframe tbody tr th:only-of-type {\n",
       "        vertical-align: middle;\n",
       "    }\n",
       "\n",
       "    .dataframe tbody tr th {\n",
       "        vertical-align: top;\n",
       "    }\n",
       "\n",
       "    .dataframe thead th {\n",
       "        text-align: right;\n",
       "    }\n",
       "</style>\n",
       "<table border=\"1\" class=\"dataframe\">\n",
       "  <thead>\n",
       "    <tr style=\"text-align: right;\">\n",
       "      <th></th>\n",
       "      <th>Tweet</th>\n",
       "      <th>label</th>\n",
       "    </tr>\n",
       "  </thead>\n",
       "  <tbody>\n",
       "    <tr>\n",
       "      <th>0</th>\n",
       "      <td>انا اؤمن بان الانسان ينطفئ جماله عند ابتعاد م...</td>\n",
       "      <td>negative</td>\n",
       "    </tr>\n",
       "    <tr>\n",
       "      <th>1</th>\n",
       "      <td>من الذاكره. . عندما اعتقد كريستيانو انه ثاني ا...</td>\n",
       "      <td>positive</td>\n",
       "    </tr>\n",
       "    <tr>\n",
       "      <th>2</th>\n",
       "      <td>لا نخلو من ضغوطات الحياه. فنحن نعيش علي ارض اع...</td>\n",
       "      <td>neutral</td>\n",
       "    </tr>\n",
       "    <tr>\n",
       "      <th>3</th>\n",
       "      <td>مصطلحات لبنانيه حيرت البشريه بتوصل عالبيت ، بن...</td>\n",
       "      <td>negative</td>\n",
       "    </tr>\n",
       "    <tr>\n",
       "      <th>4</th>\n",
       "      <td>نصمت !! لتسير حياتنا علي م يرام فالناس لم تعد ...</td>\n",
       "      <td>negative</td>\n",
       "    </tr>\n",
       "  </tbody>\n",
       "</table>\n",
       "</div>"
      ],
      "text/plain": [
       "                                               Tweet     label\n",
       "0   انا اؤمن بان الانسان ينطفئ جماله عند ابتعاد م...  negative\n",
       "1  من الذاكره. . عندما اعتقد كريستيانو انه ثاني ا...  positive\n",
       "2  لا نخلو من ضغوطات الحياه. فنحن نعيش علي ارض اع...   neutral\n",
       "3  مصطلحات لبنانيه حيرت البشريه بتوصل عالبيت ، بن...  negative\n",
       "4  نصمت !! لتسير حياتنا علي م يرام فالناس لم تعد ...  negative"
      ]
     },
     "execution_count": 5,
     "metadata": {},
     "output_type": "execute_result"
    }
   ],
   "source": [
    "df = pd.read_csv(path/'data'/'ArSenTD-LEV-processed-no-emojis2.csv')  # , encoding='Windows-1256'\n",
    "df.head()"
   ]
  },
  {
   "cell_type": "code",
   "execution_count": 6,
   "metadata": {},
   "outputs": [
    {
     "data": {
      "text/plain": [
       "negative         1253\n",
       "neutral           885\n",
       "positive          835\n",
       "very_negative     630\n",
       "very_positive     397\n",
       "Name: label, dtype: int64"
      ]
     },
     "execution_count": 6,
     "metadata": {},
     "output_type": "execute_result"
    }
   ],
   "source": [
    "df.label.value_counts() # unbalanced"
   ]
  },
  {
   "cell_type": "code",
   "execution_count": 7,
   "metadata": {},
   "outputs": [],
   "source": [
    "df.Tweet.to_csv(path/'data'/'ArSenTD-LEV-no-emojis-text-only.txt', header=False, index=False)"
   ]
  },
  {
   "cell_type": "markdown",
   "metadata": {},
   "source": [
    "MADAMIRA..."
   ]
  },
  {
   "cell_type": "code",
   "execution_count": 8,
   "metadata": {},
   "outputs": [
    {
     "data": {
      "text/html": [
       "<div>\n",
       "<style scoped>\n",
       "    .dataframe tbody tr th:only-of-type {\n",
       "        vertical-align: middle;\n",
       "    }\n",
       "\n",
       "    .dataframe tbody tr th {\n",
       "        vertical-align: top;\n",
       "    }\n",
       "\n",
       "    .dataframe thead th {\n",
       "        text-align: right;\n",
       "    }\n",
       "</style>\n",
       "<table border=\"1\" class=\"dataframe\">\n",
       "  <thead>\n",
       "    <tr style=\"text-align: right;\">\n",
       "      <th></th>\n",
       "      <th>processed_text</th>\n",
       "    </tr>\n",
       "  </thead>\n",
       "  <tbody>\n",
       "    <tr>\n",
       "      <th>0</th>\n",
       "      <td>انا  اءمن  ب+ ان  ال+ انسان  ينطفء  جمال +ه ع...</td>\n",
       "    </tr>\n",
       "    <tr>\n",
       "      <th>1</th>\n",
       "      <td>من  ال+ ذاكره  .  .  عندما +ما اعتقد  كريستيا...</td>\n",
       "    </tr>\n",
       "    <tr>\n",
       "      <th>2</th>\n",
       "      <td>لا  نخلو  من  ضغوطات  ال+ حياه  .  ف+ نحن  نع...</td>\n",
       "    </tr>\n",
       "    <tr>\n",
       "      <th>3</th>\n",
       "      <td>\"  مصطلحات  لبناني +ه حيرت  ال+ بشريه  ب+ توص...</td>\n",
       "    </tr>\n",
       "    <tr>\n",
       "      <th>4</th>\n",
       "      <td>نصمت  !  !  ل+ تسير  حياه +نا علي  م  يرام  ف...</td>\n",
       "    </tr>\n",
       "  </tbody>\n",
       "</table>\n",
       "</div>"
      ],
      "text/plain": [
       "                                      processed_text\n",
       "0   انا  اءمن  ب+ ان  ال+ انسان  ينطفء  جمال +ه ع...\n",
       "1   من  ال+ ذاكره  .  .  عندما +ما اعتقد  كريستيا...\n",
       "2   لا  نخلو  من  ضغوطات  ال+ حياه  .  ف+ نحن  نع...\n",
       "3   \"  مصطلحات  لبناني +ه حيرت  ال+ بشريه  ب+ توص...\n",
       "4   نصمت  !  !  ل+ تسير  حياه +نا علي  م  يرام  ف..."
      ]
     },
     "execution_count": 8,
     "metadata": {},
     "output_type": "execute_result"
    }
   ],
   "source": [
    "df_mada = pd.read_csv(path/'data'/'ArSenTD-LEV-no-emojis-text-only-processed.txt', sep='\\t', header=None, names=['processed_text'])\n",
    "df_mada.head()"
   ]
  },
  {
   "cell_type": "code",
   "execution_count": 9,
   "metadata": {},
   "outputs": [],
   "source": [
    "df.Tweet = df_mada.processed_text\n",
    "df.to_csv(path/'data'/'ArSenTD-LEV-final.csv', index=False)"
   ]
  },
  {
   "cell_type": "markdown",
   "metadata": {},
   "source": [
    "__HARD__"
   ]
  },
  {
   "cell_type": "code",
   "execution_count": 99,
   "metadata": {},
   "outputs": [
    {
     "data": {
      "text/html": [
       "<div>\n",
       "<style scoped>\n",
       "    .dataframe tbody tr th:only-of-type {\n",
       "        vertical-align: middle;\n",
       "    }\n",
       "\n",
       "    .dataframe tbody tr th {\n",
       "        vertical-align: top;\n",
       "    }\n",
       "\n",
       "    .dataframe thead th {\n",
       "        text-align: right;\n",
       "    }\n",
       "</style>\n",
       "<table border=\"1\" class=\"dataframe\">\n",
       "  <thead>\n",
       "    <tr style=\"text-align: right;\">\n",
       "      <th></th>\n",
       "      <th>no</th>\n",
       "      <th>Hotel name</th>\n",
       "      <th>rating</th>\n",
       "      <th>user type</th>\n",
       "      <th>room type</th>\n",
       "      <th>nights</th>\n",
       "      <th>review</th>\n",
       "    </tr>\n",
       "  </thead>\n",
       "  <tbody>\n",
       "    <tr>\n",
       "      <th>0</th>\n",
       "      <td>2</td>\n",
       "      <td>فندق 72</td>\n",
       "      <td>2</td>\n",
       "      <td>مسافر منفرد</td>\n",
       "      <td>غرفة ديلوكس مزدوجة أو توأم</td>\n",
       "      <td>أقمت ليلة واحدة</td>\n",
       "      <td>“ممتاز”. النظافة والطاقم متعاون.</td>\n",
       "    </tr>\n",
       "    <tr>\n",
       "      <th>1</th>\n",
       "      <td>3</td>\n",
       "      <td>فندق 72</td>\n",
       "      <td>5</td>\n",
       "      <td>زوج</td>\n",
       "      <td>غرفة ديلوكس مزدوجة أو توأم</td>\n",
       "      <td>أقمت ليلة واحدة</td>\n",
       "      <td>استثنائي. سهولة إنهاء المعاملة في الاستقبال. ل...</td>\n",
       "    </tr>\n",
       "    <tr>\n",
       "      <th>2</th>\n",
       "      <td>16</td>\n",
       "      <td>فندق 72</td>\n",
       "      <td>5</td>\n",
       "      <td>زوج</td>\n",
       "      <td>-</td>\n",
       "      <td>أقمت ليلتين</td>\n",
       "      <td>استثنائي. انصح بأختيار الاسويت و بالاخص غرفه ر...</td>\n",
       "    </tr>\n",
       "    <tr>\n",
       "      <th>3</th>\n",
       "      <td>20</td>\n",
       "      <td>فندق 72</td>\n",
       "      <td>1</td>\n",
       "      <td>زوج</td>\n",
       "      <td>غرفة قياسية مزدوجة</td>\n",
       "      <td>أقمت ليلة واحدة</td>\n",
       "      <td>“استغرب تقييم الفندق كخمس نجوم”. لا شي. يستحق ...</td>\n",
       "    </tr>\n",
       "    <tr>\n",
       "      <th>4</th>\n",
       "      <td>23</td>\n",
       "      <td>فندق 72</td>\n",
       "      <td>4</td>\n",
       "      <td>زوج</td>\n",
       "      <td>غرفة ديلوكس مزدوجة أو توأم</td>\n",
       "      <td>أقمت ليلتين</td>\n",
       "      <td>جيد. المكان جميل وهاديء. كل شي جيد ونظيف بس كا...</td>\n",
       "    </tr>\n",
       "  </tbody>\n",
       "</table>\n",
       "</div>"
      ],
      "text/plain": [
       "   no Hotel name  rating    user type                   room type  \\\n",
       "0   2    فندق 72       2  مسافر منفرد  غرفة ديلوكس مزدوجة أو توأم   \n",
       "1   3    فندق 72       5          زوج  غرفة ديلوكس مزدوجة أو توأم   \n",
       "2  16    فندق 72       5          زوج                           -   \n",
       "3  20    فندق 72       1          زوج          غرفة قياسية مزدوجة   \n",
       "4  23    فندق 72       4          زوج  غرفة ديلوكس مزدوجة أو توأم   \n",
       "\n",
       "            nights                                             review  \n",
       "0  أقمت ليلة واحدة                  “ممتاز”. النظافة والطاقم متعاون.   \n",
       "1  أقمت ليلة واحدة  استثنائي. سهولة إنهاء المعاملة في الاستقبال. ل...  \n",
       "2      أقمت ليلتين  استثنائي. انصح بأختيار الاسويت و بالاخص غرفه ر...  \n",
       "3  أقمت ليلة واحدة  “استغرب تقييم الفندق كخمس نجوم”. لا شي. يستحق ...  \n",
       "4      أقمت ليلتين  جيد. المكان جميل وهاديء. كل شي جيد ونظيف بس كا...  "
      ]
     },
     "execution_count": 99,
     "metadata": {},
     "output_type": "execute_result"
    }
   ],
   "source": [
    "df = pd.read_csv(path/'data'/'HARD-balanced-reviews-utf8.tsv', sep='\\t', encoding='utf-8')  # , encoding='Windows-1256'\n",
    "df.head()"
   ]
  },
  {
   "cell_type": "code",
   "execution_count": 100,
   "metadata": {},
   "outputs": [
    {
     "name": "stdout",
     "output_type": "stream",
     "text": [
      "-1    52849\n",
      " 1    52849\n",
      "Name: rating, dtype: int64\n"
     ]
    },
    {
     "data": {
      "text/html": [
       "<div>\n",
       "<style scoped>\n",
       "    .dataframe tbody tr th:only-of-type {\n",
       "        vertical-align: middle;\n",
       "    }\n",
       "\n",
       "    .dataframe tbody tr th {\n",
       "        vertical-align: top;\n",
       "    }\n",
       "\n",
       "    .dataframe thead th {\n",
       "        text-align: right;\n",
       "    }\n",
       "</style>\n",
       "<table border=\"1\" class=\"dataframe\">\n",
       "  <thead>\n",
       "    <tr style=\"text-align: right;\">\n",
       "      <th></th>\n",
       "      <th>rating</th>\n",
       "      <th>review</th>\n",
       "    </tr>\n",
       "  </thead>\n",
       "  <tbody>\n",
       "    <tr>\n",
       "      <th>0</th>\n",
       "      <td>-1</td>\n",
       "      <td>ممتاز النظافة والطاقم متعاون</td>\n",
       "    </tr>\n",
       "    <tr>\n",
       "      <th>1</th>\n",
       "      <td>1</td>\n",
       "      <td>استثنائي سهولة إنهاء المعاملة في الاستقبال لاشيئ</td>\n",
       "    </tr>\n",
       "    <tr>\n",
       "      <th>2</th>\n",
       "      <td>1</td>\n",
       "      <td>استثنائي انصح بأختيار الاسويت و بالاخص غرفه رق...</td>\n",
       "    </tr>\n",
       "    <tr>\n",
       "      <th>3</th>\n",
       "      <td>-1</td>\n",
       "      <td>استغرب تقييم الفندق كخمس نجوم لا شي يستحق رقم ...</td>\n",
       "    </tr>\n",
       "    <tr>\n",
       "      <th>4</th>\n",
       "      <td>1</td>\n",
       "      <td>جيد المكان جميل وهاديء كل شي جيد ونظيف بس كان ...</td>\n",
       "    </tr>\n",
       "  </tbody>\n",
       "</table>\n",
       "</div>"
      ],
      "text/plain": [
       "   rating                                             review\n",
       "0      -1                      ممتاز النظافة والطاقم متعاون \n",
       "1       1   استثنائي سهولة إنهاء المعاملة في الاستقبال لاشيئ\n",
       "2       1  استثنائي انصح بأختيار الاسويت و بالاخص غرفه رق...\n",
       "3      -1  استغرب تقييم الفندق كخمس نجوم لا شي يستحق رقم ...\n",
       "4       1  جيد المكان جميل وهاديء كل شي جيد ونظيف بس كان ..."
      ]
     },
     "execution_count": 100,
     "metadata": {},
     "output_type": "execute_result"
    }
   ],
   "source": [
    "df = df[['rating', 'review']] # we are interested in rating and review only\n",
    "df.rating = df.rating.apply(lambda x: 1 if x>3 else -1)\n",
    "df.review = df.review.apply(lambda x: pre_process(x))\n",
    "print(df.rating.value_counts())\n",
    "df.head()"
   ]
  },
  {
   "cell_type": "code",
   "execution_count": 25,
   "metadata": {},
   "outputs": [],
   "source": [
    "df.review.to_csv(path/'data'/'HARD-text-only.txt', header=False, index=False)"
   ]
  },
  {
   "cell_type": "markdown",
   "metadata": {},
   "source": [
    "MADAMIRA..."
   ]
  },
  {
   "cell_type": "code",
   "execution_count": 95,
   "metadata": {},
   "outputs": [
    {
     "data": {
      "text/html": [
       "<div>\n",
       "<style scoped>\n",
       "    .dataframe tbody tr th:only-of-type {\n",
       "        vertical-align: middle;\n",
       "    }\n",
       "\n",
       "    .dataframe tbody tr th {\n",
       "        vertical-align: top;\n",
       "    }\n",
       "\n",
       "    .dataframe thead th {\n",
       "        text-align: right;\n",
       "    }\n",
       "</style>\n",
       "<table border=\"1\" class=\"dataframe\">\n",
       "  <thead>\n",
       "    <tr style=\"text-align: right;\">\n",
       "      <th></th>\n",
       "      <th>processed_text</th>\n",
       "    </tr>\n",
       "  </thead>\n",
       "  <tbody>\n",
       "    <tr>\n",
       "      <th>0</th>\n",
       "      <td>ممتاز  ال+ نظافه  و+ ال+ طاقم  متعاون</td>\n",
       "    </tr>\n",
       "    <tr>\n",
       "      <th>1</th>\n",
       "      <td>استثناءي  سهوله  انهاء  ال+ معامله  في  ال+ ا...</td>\n",
       "    </tr>\n",
       "    <tr>\n",
       "      <th>2</th>\n",
       "      <td>استثناءي  انصح  ب+ اختيار  الاسويت  و  ب+ ال+...</td>\n",
       "    </tr>\n",
       "    <tr>\n",
       "      <th>3</th>\n",
       "      <td>استغرب  تقييم  ال+ فندق  ك+ خمس  نجوم  لا  شي...</td>\n",
       "    </tr>\n",
       "    <tr>\n",
       "      <th>4</th>\n",
       "      <td>جيد  ال+ مكان  جميل  وهاديء  كل  شي  جيد  و+ ...</td>\n",
       "    </tr>\n",
       "  </tbody>\n",
       "</table>\n",
       "</div>"
      ],
      "text/plain": [
       "                                      processed_text\n",
       "0              ممتاز  ال+ نظافه  و+ ال+ طاقم  متعاون\n",
       "1   استثناءي  سهوله  انهاء  ال+ معامله  في  ال+ ا...\n",
       "2   استثناءي  انصح  ب+ اختيار  الاسويت  و  ب+ ال+...\n",
       "3   استغرب  تقييم  ال+ فندق  ك+ خمس  نجوم  لا  شي...\n",
       "4   جيد  ال+ مكان  جميل  وهاديء  كل  شي  جيد  و+ ..."
      ]
     },
     "execution_count": 95,
     "metadata": {},
     "output_type": "execute_result"
    }
   ],
   "source": [
    "df_mada = pd.read_csv(path/'data'/'HARD_text_only_processed.txt', sep='|', header=None, names=['processed_text'])\n",
    "df_mada.head()"
   ]
  },
  {
   "cell_type": "code",
   "execution_count": 96,
   "metadata": {},
   "outputs": [
    {
     "data": {
      "text/plain": [
       "(105698, 1)"
      ]
     },
     "execution_count": 96,
     "metadata": {},
     "output_type": "execute_result"
    }
   ],
   "source": [
    "df_mada.shape"
   ]
  },
  {
   "cell_type": "code",
   "execution_count": 97,
   "metadata": {},
   "outputs": [
    {
     "data": {
      "text/plain": [
       "processed_text    NaN\n",
       "Name: 1012, dtype: object"
      ]
     },
     "execution_count": 97,
     "metadata": {},
     "output_type": "execute_result"
    }
   ],
   "source": [
    "df_mada.iloc[1012]"
   ]
  },
  {
   "cell_type": "code",
   "execution_count": 98,
   "metadata": {},
   "outputs": [
    {
     "data": {
      "text/plain": [
       "processed_text    53\n",
       "dtype: int64"
      ]
     },
     "execution_count": 98,
     "metadata": {},
     "output_type": "execute_result"
    }
   ],
   "source": [
    "df_mada.isnull().sum()"
   ]
  },
  {
   "cell_type": "code",
   "execution_count": 101,
   "metadata": {},
   "outputs": [],
   "source": [
    "df.review = df_mada.processed_text\n",
    "df.to_csv(path/'data'/'HARD-final.csv', index=False)"
   ]
  },
  {
   "cell_type": "markdown",
   "metadata": {},
   "source": [
    "## Fine-Tune pre-trained LM"
   ]
  },
  {
   "cell_type": "code",
   "execution_count": 5,
   "metadata": {},
   "outputs": [],
   "source": [
    "pretrained_fnames=['Ar-LM-epoch1-acc43','itos']"
   ]
  },
  {
   "cell_type": "code",
   "execution_count": 6,
   "metadata": {},
   "outputs": [
    {
     "name": "stdout",
     "output_type": "stream",
     "text": [
      "(10006, 2)\n",
      "(8004, 2) (2002, 2)\n"
     ]
    },
    {
     "data": {
      "text/html": [
       "<div>\n",
       "<style scoped>\n",
       "    .dataframe tbody tr th:only-of-type {\n",
       "        vertical-align: middle;\n",
       "    }\n",
       "\n",
       "    .dataframe tbody tr th {\n",
       "        vertical-align: top;\n",
       "    }\n",
       "\n",
       "    .dataframe thead th {\n",
       "        text-align: right;\n",
       "    }\n",
       "</style>\n",
       "<table border=\"1\" class=\"dataframe\">\n",
       "  <thead>\n",
       "    <tr style=\"text-align: right;\">\n",
       "      <th></th>\n",
       "      <th>category</th>\n",
       "      <th>text</th>\n",
       "    </tr>\n",
       "  </thead>\n",
       "  <tbody>\n",
       "    <tr>\n",
       "      <th>7862</th>\n",
       "      <td>-2</td>\n",
       "      <td>اجلاء  اكثر  من  الفي  شخص  تحسبا  ل+ اعصار  ...</td>\n",
       "    </tr>\n",
       "    <tr>\n",
       "      <th>1095</th>\n",
       "      <td>-2</td>\n",
       "      <td>ل+ ال+ تخلص  من  مرسي  غاندي  هو  ال+ حل</td>\n",
       "    </tr>\n",
       "    <tr>\n",
       "      <th>3123</th>\n",
       "      <td>0</td>\n",
       "      <td>رقم  يا  اخ +ي اي  منصب  رفضت  ال+ مناصب  ال+...</td>\n",
       "    </tr>\n",
       "    <tr>\n",
       "      <th>8503</th>\n",
       "      <td>1</td>\n",
       "      <td>وحدوا  الله  يا  جماعه  و+ بلاش  اشاعات  عن  ...</td>\n",
       "    </tr>\n",
       "    <tr>\n",
       "      <th>1561</th>\n",
       "      <td>-1</td>\n",
       "      <td>ب+ ال+ فيديو  عكاشه  و+ الله  هيفاء  و+ هبي  ...</td>\n",
       "    </tr>\n",
       "  </tbody>\n",
       "</table>\n",
       "</div>"
      ],
      "text/plain": [
       "      category                                               text\n",
       "7862        -2   اجلاء  اكثر  من  الفي  شخص  تحسبا  ل+ اعصار  ...\n",
       "1095        -2           ل+ ال+ تخلص  من  مرسي  غاندي  هو  ال+ حل\n",
       "3123         0   رقم  يا  اخ +ي اي  منصب  رفضت  ال+ مناصب  ال+...\n",
       "8503         1   وحدوا  الله  يا  جماعه  و+ بلاش  اشاعات  عن  ...\n",
       "1561        -1   ب+ ال+ فيديو  عكاشه  و+ الله  هيفاء  و+ هبي  ..."
      ]
     },
     "execution_count": 6,
     "metadata": {},
     "output_type": "execute_result"
    }
   ],
   "source": [
    "from sklearn.model_selection import train_test_split\n",
    "\n",
    "df = pd.read_csv(path/'data'/'ASTD_final.csv')\n",
    "print(df.shape)\n",
    "#df.dropna(inplace=True)\n",
    "#print(df.shape)\n",
    "#df.Tweet = df.Tweet.apply(lambda x: pre_process(x))\n",
    "#df.label.replace({'very_positive':2, 'positive':1, 'neutral':0, 'negative':-1, 'very_negative':-2}, inplace=True)\n",
    "np.random.seed(42)\n",
    "df_train, df_val = train_test_split(df, test_size=0.2)\n",
    "print(df_train.shape, df_val.shape)\n",
    "#df.columns\n",
    "df_train.head()"
   ]
  },
  {
   "cell_type": "code",
   "execution_count": 7,
   "metadata": {},
   "outputs": [
    {
     "data": {
      "text/plain": [
       "-2    5362\n",
       "-1    1340\n",
       " 0     670\n",
       " 1     632\n",
       "Name: category, dtype: int64"
      ]
     },
     "execution_count": 7,
     "metadata": {},
     "output_type": "execute_result"
    }
   ],
   "source": [
    "df_train.category.value_counts()"
   ]
  },
  {
   "cell_type": "code",
   "execution_count": 8,
   "metadata": {},
   "outputs": [
    {
     "data": {
      "text/plain": [
       "-2    1329\n",
       "-1     344\n",
       " 1     167\n",
       " 0     162\n",
       "Name: category, dtype: int64"
      ]
     },
     "execution_count": 8,
     "metadata": {},
     "output_type": "execute_result"
    }
   ],
   "source": [
    "df_val.category.value_counts()"
   ]
  },
  {
   "cell_type": "code",
   "execution_count": 9,
   "metadata": {},
   "outputs": [
    {
     "name": "stdout",
     "output_type": "stream",
     "text": [
      "<class 'pandas.core.frame.DataFrame'>\n",
      "Int64Index: 8004 entries, 7862 to 7270\n",
      "Data columns (total 2 columns):\n",
      "category    8004 non-null int64\n",
      "text        8004 non-null object\n",
      "dtypes: int64(1), object(1)\n",
      "memory usage: 187.6+ KB\n"
     ]
    }
   ],
   "source": [
    "df_train.info()"
   ]
  },
  {
   "cell_type": "code",
   "execution_count": 10,
   "metadata": {},
   "outputs": [
    {
     "data": {
      "text/plain": [
       "category    0\n",
       "text        0\n",
       "dtype: int64"
      ]
     },
     "execution_count": 10,
     "metadata": {},
     "output_type": "execute_result"
    }
   ],
   "source": [
    "df.isnull().sum()"
   ]
  },
  {
   "cell_type": "code",
   "execution_count": 89,
   "metadata": {},
   "outputs": [],
   "source": [
    "ar_tok = Tokenizer(lang='ar')\n",
    "#data_lm = TextLMDataBunch.from_df(path, train_df=df_train, valid_df=df_val, text_cols=0, label_cols=None, tokenizer=ar_tok, bs=32)\n",
    "data_lm = TextLMDataBunch.from_df(path, train_df=df_train, valid_df=df_val, text_cols=1, label_cols=None, tokenizer=ar_tok, bs=64, include_bos=False, min_freq=4)"
   ]
  },
  {
   "cell_type": "code",
   "execution_count": 44,
   "metadata": {},
   "outputs": [
    {
     "data": {
      "text/plain": [
       "LMTextList (1197 items)\n",
       "  برلمان مشكوك في شرعيه + ه س+ ينتخب لجن + ه نصف + ها من + ه اي غير محايد + ه ل+ وضع دستور ل+ مصر و+ ليس ل+ ال+ اغلبيه ال+ دستور مصدر ال+ سلطات و+ ليس ال+ عكس المتاهه مستمره,  ال+ اعلام ال+ فاسد و+ فءران + ه اميركا تساند ال+ اخوان و+ ال+ يوم وفد من ال+ كونجرس يلتقي سيسي و+ ال+ طرطور و+ ب+ لاوي مجانين رسمي,  تدعون ل+ ال+ دين و+ تنشرون ال+ اكاذيب لم اكن ابدا عضوا ب+ ال+ وطني انتم تتاجرون ب+ ال+ دين,  انا ب+ حب ال+ رقاصات و+ هما فوق راس + ي انت نجس اصلا يا انتخبوا ال+ عرص,  مرسي محبوس وخاين و+ مش هيرجع و+ ال+ تصالح مرفوض ال+ ساده ال+ محترمون\n",
       "Path: ."
      ]
     },
     "execution_count": 44,
     "metadata": {},
     "output_type": "execute_result"
    }
   ],
   "source": [
    "data_lm.train_ds.x"
   ]
  },
  {
   "cell_type": "code",
   "execution_count": 46,
   "metadata": {},
   "outputs": [
    {
     "data": {
      "text/html": [
       "<table border=\"1\" class=\"dataframe\">\n",
       "  <thead>\n",
       "    <tr style=\"text-align: right;\">\n",
       "      <th>idx</th>\n",
       "      <th>text</th>\n",
       "    </tr>\n",
       "  </thead>\n",
       "  <tbody>\n",
       "    <tr>\n",
       "      <td>0</td>\n",
       "      <td>انت ل+ ال+ دنيا ب+ ذات + ك فوق مالا يعقلون   اقبال ال+ مصريين علي ال+ تصويت في ال+ انتخابات ضمان + ه ل+ برلمان يعبر عن ال+ شعب و+ انتخاب ممثلين ل+ شباب ال+ ثوره ضمان + ه ل+ برلمان يستكمل مهام ثوره + نا   ميثاق ال+ شرف ال+ اعلامي الذي اتخذوا + ه ذريع + ه ل+ اغلاق الفراعين برء من ال+ انقلاب قتلوا</td>\n",
       "    </tr>\n",
       "    <tr>\n",
       "      <td>1</td>\n",
       "      <td>او استثناء دع ال+ كلاب تنبح   كرن ? ال دولي ب+ حضور ال+ ملك مبروك ل ال+ شباب بطل كاس ال+ ملك ول ال+ شعب ال+ سعودي ال+ شقيق ملعب ال+ جوهره نحب + ك ياملكنا عبدالله   نعم حضرت جلسه استماع واحد + ه ل+ ال+ دستور استمعوا ل + نا ب+ كل اهتمام ثم ضربوا ب+ ملاحظات + نا عرض ال+ حاءط لا ل+ ال+</td>\n",
       "    </tr>\n",
       "    <tr>\n",
       "      <td>2</td>\n",
       "      <td>مصر اخر عاما و+ يطالب ب+ خضوع مصر ل+ ال+ جيش و+ استشاره + ه في اي حاج + ه تخص + ه   عبدالله شعب + ك يحبك ال+ ملك اسال من هو في ملك + ه مقيم و+ في جلال + ه عظيم و+ علي عباد + ه رحيم و+ ب+ كل شء عليم ان يشفي + ك   الي شريك شفيق في مشروع + هما</td>\n",
       "    </tr>\n",
       "    <tr>\n",
       "      <td>3</td>\n",
       "      <td>ه جنات و+ اي حاج + ه من صافيناز   مداخل + ه نجيب ساويرس مع الابراشيي و+ تعليق + ه علي استقاله دالبرادعي و+ احداث مصر   جيد ان تتنوع ال+ اراء حول ال+ سياسه و+ قضايا + ها و+ ضروري ان يتم ال+ تعبير عن هذا ال+ تنوع في ال+ اعلام ال+ تقليدي و+ شب   صور + ه ال+ شهيده رضا رمضان سن +</td>\n",
       "    </tr>\n",
       "    <tr>\n",
       "      <td>4</td>\n",
       "      <td>+ ني الي مهوس + ه ب + ها حولت ال+ بيت الي معرض ال+ كتاب ممتنه ل + ك جدا استاذي   ال+ انقلاب يريد قمع مليون مصري لو حاولت امريكا ب+ جبروت + ها قمع + هم ما نجحت شعب مصر ال+ عظيم س+ ينتصر و+ يدفع ال+ عالم ل+ احترام + ه   منع حازم عبد ال+ عظيم و+ ال+ سيد ال+ بدوي اكبر انصار</td>\n",
       "    </tr>\n",
       "  </tbody>\n",
       "</table>"
      ],
      "text/plain": [
       "<IPython.core.display.HTML object>"
      ]
     },
     "metadata": {},
     "output_type": "display_data"
    }
   ],
   "source": [
    "data_lm.show_batch()"
   ]
  },
  {
   "cell_type": "code",
   "execution_count": 90,
   "metadata": {},
   "outputs": [],
   "source": [
    "learn_lm = language_model_learner(data_lm, AWD_LSTM, drop_mult=0.2, pretrained_fnames=pretrained_fnames)"
   ]
  },
  {
   "cell_type": "code",
   "execution_count": 91,
   "metadata": {},
   "outputs": [
    {
     "data": {
      "text/html": [],
      "text/plain": [
       "<IPython.core.display.HTML object>"
      ]
     },
     "metadata": {},
     "output_type": "display_data"
    },
    {
     "name": "stdout",
     "output_type": "stream",
     "text": [
      "LR Finder is complete, type {learner_name}.recorder.plot() to see the graph.\n"
     ]
    },
    {
     "data": {
      "image/png": "[encoded data removed]",
      "text/plain": [
       "<Figure size 432x288 with 1 Axes>"
      ]
     },
     "metadata": {
      "needs_background": "light"
     },
     "output_type": "display_data"
    }
   ],
   "source": [
    "learn_lm.lr_find()\n",
    "learn_lm.recorder.plot()"
   ]
  },
  {
   "cell_type": "code",
   "execution_count": 92,
   "metadata": {},
   "outputs": [
    {
     "data": {
      "text/html": [
       "Total time: 00:04 <p><table border=\"1\" class=\"dataframe\">\n",
       "  <thead>\n",
       "    <tr style=\"text-align: left;\">\n",
       "      <th>epoch</th>\n",
       "      <th>train_loss</th>\n",
       "      <th>valid_loss</th>\n",
       "      <th>accuracy</th>\n",
       "      <th>time</th>\n",
       "    </tr>\n",
       "  </thead>\n",
       "  <tbody>\n",
       "    <tr>\n",
       "      <td>0</td>\n",
       "      <td>4.520447</td>\n",
       "      <td>4.112982</td>\n",
       "      <td>0.285067</td>\n",
       "      <td>00:04</td>\n",
       "    </tr>\n",
       "  </tbody>\n",
       "</table>"
      ],
      "text/plain": [
       "<IPython.core.display.HTML object>"
      ]
     },
     "metadata": {},
     "output_type": "display_data"
    }
   ],
   "source": [
    "learn_lm.fit_one_cycle(1, 5e-2)"
   ]
  },
  {
   "cell_type": "code",
   "execution_count": 15,
   "metadata": {},
   "outputs": [],
   "source": [
    "learn_lm.save('learn_lm_ASTD_epoch1_acc272')"
   ]
  },
  {
   "cell_type": "code",
   "execution_count": 93,
   "metadata": {},
   "outputs": [],
   "source": [
    "learn_lm.unfreeze()"
   ]
  },
  {
   "cell_type": "code",
   "execution_count": 94,
   "metadata": {},
   "outputs": [
    {
     "data": {
      "text/html": [],
      "text/plain": [
       "<IPython.core.display.HTML object>"
      ]
     },
     "metadata": {},
     "output_type": "display_data"
    },
    {
     "name": "stdout",
     "output_type": "stream",
     "text": [
      "LR Finder is complete, type {learner_name}.recorder.plot() to see the graph.\n"
     ]
    },
    {
     "data": {
      "image/png": "[encoded data removed]",
      "text/plain": [
       "<Figure size 432x288 with 1 Axes>"
      ]
     },
     "metadata": {
      "needs_background": "light"
     },
     "output_type": "display_data"
    }
   ],
   "source": [
    "learn_lm.lr_find()\n",
    "learn_lm.recorder.plot()"
   ]
  },
  {
   "cell_type": "code",
   "execution_count": 95,
   "metadata": {},
   "outputs": [
    {
     "data": {
      "text/html": [
       "Total time: 00:38 <p><table border=\"1\" class=\"dataframe\">\n",
       "  <thead>\n",
       "    <tr style=\"text-align: left;\">\n",
       "      <th>epoch</th>\n",
       "      <th>train_loss</th>\n",
       "      <th>valid_loss</th>\n",
       "      <th>accuracy</th>\n",
       "      <th>time</th>\n",
       "    </tr>\n",
       "  </thead>\n",
       "  <tbody>\n",
       "    <tr>\n",
       "      <td>0</td>\n",
       "      <td>3.901358</td>\n",
       "      <td>4.004862</td>\n",
       "      <td>0.300022</td>\n",
       "      <td>00:06</td>\n",
       "    </tr>\n",
       "    <tr>\n",
       "      <td>1</td>\n",
       "      <td>3.766921</td>\n",
       "      <td>3.870316</td>\n",
       "      <td>0.315848</td>\n",
       "      <td>00:06</td>\n",
       "    </tr>\n",
       "    <tr>\n",
       "      <td>2</td>\n",
       "      <td>3.581739</td>\n",
       "      <td>3.816319</td>\n",
       "      <td>0.324263</td>\n",
       "      <td>00:06</td>\n",
       "    </tr>\n",
       "    <tr>\n",
       "      <td>3</td>\n",
       "      <td>3.390822</td>\n",
       "      <td>3.809503</td>\n",
       "      <td>0.326473</td>\n",
       "      <td>00:06</td>\n",
       "    </tr>\n",
       "    <tr>\n",
       "      <td>4</td>\n",
       "      <td>3.221774</td>\n",
       "      <td>3.827946</td>\n",
       "      <td>0.326362</td>\n",
       "      <td>00:06</td>\n",
       "    </tr>\n",
       "    <tr>\n",
       "      <td>5</td>\n",
       "      <td>3.119199</td>\n",
       "      <td>3.827676</td>\n",
       "      <td>0.326339</td>\n",
       "      <td>00:06</td>\n",
       "    </tr>\n",
       "  </tbody>\n",
       "</table>"
      ],
      "text/plain": [
       "<IPython.core.display.HTML object>"
      ]
     },
     "metadata": {},
     "output_type": "display_data"
    }
   ],
   "source": [
    "learn_lm.fit_one_cycle(6, slice(5e-3/(2.6**4),5e-3))"
   ]
  },
  {
   "cell_type": "code",
   "execution_count": 96,
   "metadata": {},
   "outputs": [],
   "source": [
    "learn_lm.save_encoder('fine_tuned_encoder_ASTD_acc326_min4')\n",
    "# 3.935220\t4.281686\t0.295004"
   ]
  },
  {
   "cell_type": "code",
   "execution_count": 19,
   "metadata": {},
   "outputs": [
    {
     "data": {
      "text/plain": [
       "'الله يبارك في +ك  ما شاء الله في هجوم ثالث من اقوي ال+ رب   حمايه مصر و+ ال+ مجتمع ال+ عربي و+ حمايه حقوق + نا بقيت ال+ ارهاب يقدر فقط ل+ وحد'"
      ]
     },
     "execution_count": 19,
     "metadata": {},
     "output_type": "execute_result"
    }
   ],
   "source": [
    "learn_lm.predict('الله يبارك في +ك ', n_words=30)"
   ]
  },
  {
   "cell_type": "markdown",
   "metadata": {},
   "source": [
    "## Classifier"
   ]
  },
  {
   "cell_type": "code",
   "execution_count": 97,
   "metadata": {},
   "outputs": [],
   "source": [
    "ar_tok = Tokenizer(lang='ar')\n",
    "data_clas = TextClasDataBunch.from_df(path, train_df=df_train, valid_df=df_val, text_cols=1, label_cols=0, tokenizer=ar_tok, bs=32, vocab=data_lm.train_ds.vocab, include_bos=False, min_freq=4)"
   ]
  },
  {
   "cell_type": "code",
   "execution_count": 98,
   "metadata": {},
   "outputs": [],
   "source": [
    "data_clas.save(path/'data'/'data_clas_ASTD_min4.pkl')"
   ]
  },
  {
   "cell_type": "code",
   "execution_count": 6,
   "metadata": {},
   "outputs": [],
   "source": [
    "data_clas = load_data(path, path/'data'/'data_clas_HARD.pkl', bs=32)"
   ]
  },
  {
   "cell_type": "code",
   "execution_count": 57,
   "metadata": {},
   "outputs": [
    {
     "data": {
      "text/html": [
       "<table border=\"1\" class=\"dataframe\">\n",
       "  <thead>\n",
       "    <tr style=\"text-align: right;\">\n",
       "      <th>text</th>\n",
       "      <th>target</th>\n",
       "    </tr>\n",
       "  </thead>\n",
       "  <tbody>\n",
       "    <tr>\n",
       "      <td>الناصبي مرسي ف اخر ليل + ه ل + ه استخدم مفرد + ه ال+ شرعيه عشرات ال+ مرات لان عقد + ه ال+ شرعيه عند + ه وصلت حد + ها و+ هذا عقد + ه نقص + ه شرعي + ه قياد + ه ال+ بحارنه من زمان</td>\n",
       "      <td>-1</td>\n",
       "    </tr>\n",
       "    <tr>\n",
       "      <td>و+ من يردد + ها هم من لا نريد + هم في مصر لا في ال+ سياسه و+ لا في ال+ برلمان ال+ قادم و+ ك+ فاهم ال+ ضرر الذي احدثوا + ه ل+ ثقافه + نا و+ وعي + نا ال+ سياسي بلغه + هم و+ اساليب + هم</td>\n",
       "      <td>-1</td>\n",
       "    </tr>\n",
       "    <tr>\n",
       "      <td>ال+ مصري ال+ حقيقي ك+ ال+ هرم ال+ شامخ رفقه + ه شرف و ال+ تواصل مع + ه حق و نسيان + ه محال و ال+ دعاء ل + ه واجبكل عام و انتم ب+ خير و مصر طيب + ه و حره امن + ه</td>\n",
       "      <td>1</td>\n",
       "    </tr>\n",
       "    <tr>\n",
       "      <td>من قام ليل + ه ال+ قدر ايمانا و+ احتسابا غفر ل + ه ما تقدم من ذنب + ه قف بين يدي ال+ رحمن و+ اطل ال+ وقوف و+ قل يا رب اتيه + ك ب+ ذنوب كثير + ه و انت ال+ عفو ال+ كريم</td>\n",
       "      <td>1</td>\n",
       "    </tr>\n",
       "    <tr>\n",
       "      <td>ابراهيم عيسي قلم شجاع و+ ضمير يقظ و+ علام + ه بارز + ه في تاريخ ال+ مهنه تحي + ه ل + ه و+ ل+ فريق ال+ دستور و+ س+ تبقي حريه ال+ صحافه في مصر ثمر + ه مستحق + ه ل+ نضال ال+ صحفيين</td>\n",
       "      <td>1</td>\n",
       "    </tr>\n",
       "  </tbody>\n",
       "</table>"
      ],
      "text/plain": [
       "<IPython.core.display.HTML object>"
      ]
     },
     "metadata": {},
     "output_type": "display_data"
    }
   ],
   "source": [
    "data_clas.show_batch()"
   ]
  },
  {
   "cell_type": "code",
   "execution_count": 99,
   "metadata": {},
   "outputs": [],
   "source": [
    "learn_clas = text_classifier_learner(data_clas, AWD_LSTM, drop_mult=0.2, metrics=[accuracy,FBeta(average='weighted')])\n",
    "learn_clas.load_encoder('fine_tuned_encoder_ASTD_acc326_min4')"
   ]
  },
  {
   "cell_type": "code",
   "execution_count": 100,
   "metadata": {},
   "outputs": [
    {
     "data": {
      "text/html": [],
      "text/plain": [
       "<IPython.core.display.HTML object>"
      ]
     },
     "metadata": {},
     "output_type": "display_data"
    },
    {
     "name": "stdout",
     "output_type": "stream",
     "text": [
      "LR Finder is complete, type {learner_name}.recorder.plot() to see the graph.\n"
     ]
    },
    {
     "data": {
      "image/png": "[encoded data removed]",
      "text/plain": [
       "<Figure size 432x288 with 1 Axes>"
      ]
     },
     "metadata": {
      "needs_background": "light"
     },
     "output_type": "display_data"
    }
   ],
   "source": [
    "learn_clas.lr_find()\n",
    "learn_clas.recorder.plot()"
   ]
  },
  {
   "cell_type": "code",
   "execution_count": 101,
   "metadata": {},
   "outputs": [
    {
     "data": {
      "text/html": [
       "Total time: 01:04 <p><table border=\"1\" class=\"dataframe\">\n",
       "  <thead>\n",
       "    <tr style=\"text-align: left;\">\n",
       "      <th>epoch</th>\n",
       "      <th>train_loss</th>\n",
       "      <th>valid_loss</th>\n",
       "      <th>accuracy</th>\n",
       "      <th>f_beta</th>\n",
       "      <th>time</th>\n",
       "    </tr>\n",
       "  </thead>\n",
       "  <tbody>\n",
       "    <tr>\n",
       "      <td>0</td>\n",
       "      <td>0.851637</td>\n",
       "      <td>0.866255</td>\n",
       "      <td>0.678322</td>\n",
       "      <td>0.641764</td>\n",
       "      <td>01:04</td>\n",
       "    </tr>\n",
       "  </tbody>\n",
       "</table>"
      ],
      "text/plain": [
       "<IPython.core.display.HTML object>"
      ]
     },
     "metadata": {},
     "output_type": "display_data"
    }
   ],
   "source": [
    "learn_clas.fit_one_cycle(1, 2e-2)"
   ]
  },
  {
   "cell_type": "code",
   "execution_count": 35,
   "metadata": {},
   "outputs": [],
   "source": [
    "learn_clas.save('ASTD_first_acc685_f643')"
   ]
  },
  {
   "cell_type": "code",
   "execution_count": 38,
   "metadata": {},
   "outputs": [
    {
     "data": {
      "text/plain": [
       "RNNLearner(data=TextClasDataBunch;\n",
       "\n",
       "Train: LabelList (8004 items)\n",
       "x: TextList\n",
       "  اجلاء اكثر من xxunk شخص تحسبا ل+ xxunk ال+ xxunk,  ل+ ال+ تخلص من مرسي غاندي هو ال+ حل,  رقم يا اخ + ي اي منصب رفضت ال+ مناصب ال+ لي عرضت عليا xxunk ان + ي ب+ قوم ب+ دوري و+ مش محتاج مناصب ارحمونا يرحم + كم الله xxunk ب+ نزاهه,  xxunk الله يا جماعه و+ بلاش اشاعات عن مفاجات عشان مش عايزين xxunk كل ال+ حكايه ملف معقد xxunk نفهم + ه مع بعض,  ب+ ال+ فيديو عكاشه و+ الله هيفاء و+ هبي ست مش طريه و+ ال+ لي يتجوز + ها يبقي خد خازوق بوابه ال+ قاهره مصر توفيق عكاشه\n",
       "y: CategoryList\n",
       "-2,-2,0,1,-1\n",
       "Path: .;\n",
       "\n",
       "Valid: LabelList (2002 items)\n",
       "x: TextList\n",
       "  في عالم موازي ان + ي مخلص كل حاجه ليله ال+ امتحان و ب+ راجع او احل,  عندما + ما تحتاج ل+ حواءط xxunk ل+ مءسسات ال+ دوله ف+ هذا xxunk ان تلك ال+ مءسسات ليست ل+ خدمه ال+ شعب و+ انما + ما ل+ قهر + ه,  رونالدو xxunk ل+ لقاء البايرن ريال مدريد كريستيانو رونالدو,  رقم انا ب+ رض + ه ال+ لي ب+ تكلم زي عمر سليمان ده شكل + ه xxunk من + كم و+ ب+ كل امانه انا كنت احترم + كم ايضا و+ لكن كفايه و+ هم ل+ حد هنا,  ل+ ابد من اقاله وزير ال+ داخليه و+ مدير امن بورسعيد و+ محافظ + ها فورا xxunk ل+ ال+ دكتور xxunk xxunk ب+ جلسه استثناءيه غدا ل+ مجلس ال+ شعب\n",
       "y: CategoryList\n",
       "-2,-2,-1,0,-1\n",
       "Path: .;\n",
       "\n",
       "Test: None, model=SequentialRNN(\n",
       "  (0): MultiBatchEncoder(\n",
       "    (module): AWD_LSTM(\n",
       "      (encoder): Embedding(8270, 400, padding_idx=1)\n",
       "      (encoder_dp): EmbeddingDropout(\n",
       "        (emb): Embedding(8270, 400, padding_idx=1)\n",
       "      )\n",
       "      (rnns): ModuleList(\n",
       "        (0): WeightDropout(\n",
       "          (module): LSTM(400, 1150, batch_first=True)\n",
       "        )\n",
       "        (1): WeightDropout(\n",
       "          (module): LSTM(1150, 1150, batch_first=True)\n",
       "        )\n",
       "        (2): WeightDropout(\n",
       "          (module): LSTM(1150, 400, batch_first=True)\n",
       "        )\n",
       "      )\n",
       "      (input_dp): RNNDropout()\n",
       "      (hidden_dps): ModuleList(\n",
       "        (0): RNNDropout()\n",
       "        (1): RNNDropout()\n",
       "        (2): RNNDropout()\n",
       "      )\n",
       "    )\n",
       "  )\n",
       "  (1): PoolingLinearClassifier(\n",
       "    (layers): Sequential(\n",
       "      (0): BatchNorm1d(1200, eps=1e-05, momentum=0.1, affine=True, track_running_stats=True)\n",
       "      (1): Dropout(p=0.08000000000000002)\n",
       "      (2): Linear(in_features=1200, out_features=50, bias=True)\n",
       "      (3): ReLU(inplace)\n",
       "      (4): BatchNorm1d(50, eps=1e-05, momentum=0.1, affine=True, track_running_stats=True)\n",
       "      (5): Dropout(p=0.1)\n",
       "      (6): Linear(in_features=50, out_features=4, bias=True)\n",
       "    )\n",
       "  )\n",
       "), opt_func=functools.partial(<class 'torch.optim.adam.Adam'>, betas=(0.9, 0.99)), loss_func=FlattenedLoss of CrossEntropyLoss(), metrics=[<function accuracy at 0x000001212572AD08>, FBeta(average='weighted', pos_label=1, eps=1e-09, beta=2)], true_wd=True, bn_wd=True, wd=0.01, train_bn=True, path=WindowsPath('.'), model_dir='models', callback_fns=[functools.partial(<class 'fastai.basic_train.Recorder'>, add_time=True)], callbacks=[RNNTrainer\n",
       "learn: RNNLearner(data=TextClasDataBunch;\n",
       "\n",
       "Train: LabelList (8004 items)\n",
       "x: TextList\n",
       "  اجلاء اكثر من xxunk شخص تحسبا ل+ xxunk ال+ xxunk,  ل+ ال+ تخلص من مرسي غاندي هو ال+ حل,  رقم يا اخ + ي اي منصب رفضت ال+ مناصب ال+ لي عرضت عليا xxunk ان + ي ب+ قوم ب+ دوري و+ مش محتاج مناصب ارحمونا يرحم + كم الله xxunk ب+ نزاهه,  xxunk الله يا جماعه و+ بلاش اشاعات عن مفاجات عشان مش عايزين xxunk كل ال+ حكايه ملف معقد xxunk نفهم + ه مع بعض,  ب+ ال+ فيديو عكاشه و+ الله هيفاء و+ هبي ست مش طريه و+ ال+ لي يتجوز + ها يبقي خد خازوق بوابه ال+ قاهره مصر توفيق عكاشه\n",
       "y: CategoryList\n",
       "-2,-2,0,1,-1\n",
       "Path: .;\n",
       "\n",
       "Valid: LabelList (2002 items)\n",
       "x: TextList\n",
       "  في عالم موازي ان + ي مخلص كل حاجه ليله ال+ امتحان و ب+ راجع او احل,  عندما + ما تحتاج ل+ حواءط xxunk ل+ مءسسات ال+ دوله ف+ هذا xxunk ان تلك ال+ مءسسات ليست ل+ خدمه ال+ شعب و+ انما + ما ل+ قهر + ه,  رونالدو xxunk ل+ لقاء البايرن ريال مدريد كريستيانو رونالدو,  رقم انا ب+ رض + ه ال+ لي ب+ تكلم زي عمر سليمان ده شكل + ه xxunk من + كم و+ ب+ كل امانه انا كنت احترم + كم ايضا و+ لكن كفايه و+ هم ل+ حد هنا,  ل+ ابد من اقاله وزير ال+ داخليه و+ مدير امن بورسعيد و+ محافظ + ها فورا xxunk ل+ ال+ دكتور xxunk xxunk ب+ جلسه استثناءيه غدا ل+ مجلس ال+ شعب\n",
       "y: CategoryList\n",
       "-2,-2,-1,0,-1\n",
       "Path: .;\n",
       "\n",
       "Test: None, model=SequentialRNN(\n",
       "  (0): MultiBatchEncoder(\n",
       "    (module): AWD_LSTM(\n",
       "      (encoder): Embedding(8270, 400, padding_idx=1)\n",
       "      (encoder_dp): EmbeddingDropout(\n",
       "        (emb): Embedding(8270, 400, padding_idx=1)\n",
       "      )\n",
       "      (rnns): ModuleList(\n",
       "        (0): WeightDropout(\n",
       "          (module): LSTM(400, 1150, batch_first=True)\n",
       "        )\n",
       "        (1): WeightDropout(\n",
       "          (module): LSTM(1150, 1150, batch_first=True)\n",
       "        )\n",
       "        (2): WeightDropout(\n",
       "          (module): LSTM(1150, 400, batch_first=True)\n",
       "        )\n",
       "      )\n",
       "      (input_dp): RNNDropout()\n",
       "      (hidden_dps): ModuleList(\n",
       "        (0): RNNDropout()\n",
       "        (1): RNNDropout()\n",
       "        (2): RNNDropout()\n",
       "      )\n",
       "    )\n",
       "  )\n",
       "  (1): PoolingLinearClassifier(\n",
       "    (layers): Sequential(\n",
       "      (0): BatchNorm1d(1200, eps=1e-05, momentum=0.1, affine=True, track_running_stats=True)\n",
       "      (1): Dropout(p=0.08000000000000002)\n",
       "      (2): Linear(in_features=1200, out_features=50, bias=True)\n",
       "      (3): ReLU(inplace)\n",
       "      (4): BatchNorm1d(50, eps=1e-05, momentum=0.1, affine=True, track_running_stats=True)\n",
       "      (5): Dropout(p=0.1)\n",
       "      (6): Linear(in_features=50, out_features=4, bias=True)\n",
       "    )\n",
       "  )\n",
       "), opt_func=functools.partial(<class 'torch.optim.adam.Adam'>, betas=(0.9, 0.99)), loss_func=FlattenedLoss of CrossEntropyLoss(), metrics=[<function accuracy at 0x000001212572AD08>, FBeta(average='weighted', pos_label=1, eps=1e-09, beta=2)], true_wd=True, bn_wd=True, wd=0.01, train_bn=True, path=WindowsPath('.'), model_dir='models', callback_fns=[functools.partial(<class 'fastai.basic_train.Recorder'>, add_time=True)], callbacks=[...], layer_groups=[Sequential(\n",
       "  (0): Embedding(8270, 400, padding_idx=1)\n",
       "  (1): EmbeddingDropout(\n",
       "    (emb): Embedding(8270, 400, padding_idx=1)\n",
       "  )\n",
       "), Sequential(\n",
       "  (0): WeightDropout(\n",
       "    (module): LSTM(400, 1150, batch_first=True)\n",
       "  )\n",
       "  (1): RNNDropout()\n",
       "), Sequential(\n",
       "  (0): WeightDropout(\n",
       "    (module): LSTM(1150, 1150, batch_first=True)\n",
       "  )\n",
       "  (1): RNNDropout()\n",
       "), Sequential(\n",
       "  (0): WeightDropout(\n",
       "    (module): LSTM(1150, 400, batch_first=True)\n",
       "  )\n",
       "  (1): RNNDropout()\n",
       "), Sequential(\n",
       "  (0): PoolingLinearClassifier(\n",
       "    (layers): Sequential(\n",
       "      (0): BatchNorm1d(1200, eps=1e-05, momentum=0.1, affine=True, track_running_stats=True)\n",
       "      (1): Dropout(p=0.08000000000000002)\n",
       "      (2): Linear(in_features=1200, out_features=50, bias=True)\n",
       "      (3): ReLU(inplace)\n",
       "      (4): BatchNorm1d(50, eps=1e-05, momentum=0.1, affine=True, track_running_stats=True)\n",
       "      (5): Dropout(p=0.1)\n",
       "      (6): Linear(in_features=50, out_features=4, bias=True)\n",
       "    )\n",
       "  )\n",
       ")], add_time=True)\n",
       "alpha: 2.0\n",
       "beta: 1.0], layer_groups=[Sequential(\n",
       "  (0): Embedding(8270, 400, padding_idx=1)\n",
       "  (1): EmbeddingDropout(\n",
       "    (emb): Embedding(8270, 400, padding_idx=1)\n",
       "  )\n",
       "), Sequential(\n",
       "  (0): WeightDropout(\n",
       "    (module): LSTM(400, 1150, batch_first=True)\n",
       "  )\n",
       "  (1): RNNDropout()\n",
       "), Sequential(\n",
       "  (0): WeightDropout(\n",
       "    (module): LSTM(1150, 1150, batch_first=True)\n",
       "  )\n",
       "  (1): RNNDropout()\n",
       "), Sequential(\n",
       "  (0): WeightDropout(\n",
       "    (module): LSTM(1150, 400, batch_first=True)\n",
       "  )\n",
       "  (1): RNNDropout()\n",
       "), Sequential(\n",
       "  (0): PoolingLinearClassifier(\n",
       "    (layers): Sequential(\n",
       "      (0): BatchNorm1d(1200, eps=1e-05, momentum=0.1, affine=True, track_running_stats=True)\n",
       "      (1): Dropout(p=0.08000000000000002)\n",
       "      (2): Linear(in_features=1200, out_features=50, bias=True)\n",
       "      (3): ReLU(inplace)\n",
       "      (4): BatchNorm1d(50, eps=1e-05, momentum=0.1, affine=True, track_running_stats=True)\n",
       "      (5): Dropout(p=0.1)\n",
       "      (6): Linear(in_features=50, out_features=4, bias=True)\n",
       "    )\n",
       "  )\n",
       ")], add_time=True)"
      ]
     },
     "execution_count": 38,
     "metadata": {},
     "output_type": "execute_result"
    }
   ],
   "source": [
    "learn_clas.load('ASTD_first_acc685_f643')"
   ]
  },
  {
   "cell_type": "code",
   "execution_count": 102,
   "metadata": {},
   "outputs": [],
   "source": [
    "learn_clas.freeze_to(-2)\n",
    "#learn_clas.lr_find()\n",
    "#learn_clas.recorder.plot()\n",
    "#learn_clas.fit_one_cycle(2, slice(1e-2/(2.6**4),1e-2))"
   ]
  },
  {
   "cell_type": "code",
   "execution_count": 103,
   "metadata": {},
   "outputs": [
    {
     "data": {
      "text/html": [
       "Total time: 01:07 <p><table border=\"1\" class=\"dataframe\">\n",
       "  <thead>\n",
       "    <tr style=\"text-align: left;\">\n",
       "      <th>epoch</th>\n",
       "      <th>train_loss</th>\n",
       "      <th>valid_loss</th>\n",
       "      <th>accuracy</th>\n",
       "      <th>f_beta</th>\n",
       "      <th>time</th>\n",
       "    </tr>\n",
       "  </thead>\n",
       "  <tbody>\n",
       "    <tr>\n",
       "      <td>0</td>\n",
       "      <td>0.843509</td>\n",
       "      <td>0.848543</td>\n",
       "      <td>0.690310</td>\n",
       "      <td>0.665196</td>\n",
       "      <td>01:07</td>\n",
       "    </tr>\n",
       "  </tbody>\n",
       "</table>"
      ],
      "text/plain": [
       "<IPython.core.display.HTML object>"
      ]
     },
     "metadata": {},
     "output_type": "display_data"
    }
   ],
   "source": [
    "learn_clas.fit_one_cycle(1, slice(5e-3/(2.6**4),5e-3))"
   ]
  },
  {
   "cell_type": "code",
   "execution_count": 104,
   "metadata": {},
   "outputs": [],
   "source": [
    "learn_clas.save('ASTD_second_acc690_f665_min4')"
   ]
  },
  {
   "cell_type": "code",
   "execution_count": 100,
   "metadata": {},
   "outputs": [
    {
     "data": {
      "text/plain": [
       "RNNLearner(data=TextClasDataBunch;\n",
       "\n",
       "Train: LabelList (3200 items)\n",
       "x: TextList\n",
       "  ال+ ان اي مواطن يراجع اي جهه حكومي + ه و+ لم تخدم + ه حسب ال+ نظام يرفع جوال + ه و+ لا يرد + ه الا رقم مكافحه ال+ فساد خلو + نا ننظف ال+ بلد من + هم ال+ ملك يحارب ال+ فساد,  كلام ال+ ناس محمد عبيد يعتبر ان ما جري ال+ يوم هو اخطر من رقم ايار قرارات ال+ حكومه ال+ لبنانيه عام رقم حول امن ال+ مطار و+ خط,  ال+ اردنيه ال+ مهندسه هدي ال+ حسيني تحصد ذهبي + ه جاءز + ه ستيفي ك+ افضل موظف + ه في ال+ عالم و+ ذلك عن فءه ال+ مءسسات ال+ حكوميه او غي,  في متل ب+ قول ادفشني و+ شوف ما اجحشني و+ انت يا سعد جحش خريها شخ تحتك و+ لكن اسمع لبنان مقاوم + ه لا تعرف ال+ هوان و+ لا تعر,  رجعت الضرايب ب+ كل دول ال+ عالم ب+ استثناء لبنان مقابل كل ضريبه في خدم + ه عن + نا مقابل كل ضريبه في ضرب + ه بتضربنا ب+ ال+ قلب طيب ليش انا لبناني\n",
       "y: CategoryList\n",
       "1,-1,1,-1,-2\n",
       "Path: .;\n",
       "\n",
       "Valid: LabelList (800 items)\n",
       "x: TextList\n",
       "  تصل ال+ سحب ال+ ممطره ل+ ال+ منطقه ال+ وسطي سدير صباح غد ال+ ثلاثاء ب+ شكل خفيف و+ تتحسن ب+ اذن الله من بعد ال+ ظهر و+ هي من خفيف + ه الي,  فعلا xxunk ب+ لبنان بدنا نتعلم كيف نكون ايد وحد + ه ب+ غض ال+ نظر عن ال+ سياسه او ال+ مذهب او ال+ دين xxunk بدنا مصير نفكر ب+ طريق + ه اوسع شوي,  نتقدم ب+ ال+ تهاني ل+ سعاده ال+ دكتور فهد العضياني ب+ مناسبه تعيين + ه مشرفا مالي اداري ل+ فرع رابغ و نشكر ل + ه كريم زياره + ه ل+ عما,  نبارك من ال+ قلب حب ل+ منتخب ال+ مغرب ال+ شقيق ال+ تاهل ل+ كاس ال+ عالم في روسيا رقم عشت في ال+ اوطان ل+ ال+ علي عنوان ملء كل جنا,  لبنان بلد فاشل ب+ كفي تعرف ان + ه الضرايب ال+ جديده مش لحتي xxunk كهربا و+ مي لكن بس ل+ تغطي + ه سلسل + ه ال+ اجور ال+ جديده\n",
       "y: CategoryList\n",
       "0,1,2,2,-2\n",
       "Path: .;\n",
       "\n",
       "Test: None, model=SequentialRNN(\n",
       "  (0): MultiBatchEncoder(\n",
       "    (module): AWD_LSTM(\n",
       "      (encoder): Embedding(11880, 400, padding_idx=1)\n",
       "      (encoder_dp): EmbeddingDropout(\n",
       "        (emb): Embedding(11880, 400, padding_idx=1)\n",
       "      )\n",
       "      (rnns): ModuleList(\n",
       "        (0): WeightDropout(\n",
       "          (module): LSTM(400, 1150, batch_first=True)\n",
       "        )\n",
       "        (1): WeightDropout(\n",
       "          (module): LSTM(1150, 1150, batch_first=True)\n",
       "        )\n",
       "        (2): WeightDropout(\n",
       "          (module): LSTM(1150, 400, batch_first=True)\n",
       "        )\n",
       "      )\n",
       "      (input_dp): RNNDropout()\n",
       "      (hidden_dps): ModuleList(\n",
       "        (0): RNNDropout()\n",
       "        (1): RNNDropout()\n",
       "        (2): RNNDropout()\n",
       "      )\n",
       "    )\n",
       "  )\n",
       "  (1): PoolingLinearClassifier(\n",
       "    (layers): Sequential(\n",
       "      (0): BatchNorm1d(1200, eps=1e-05, momentum=0.1, affine=True, track_running_stats=True)\n",
       "      (1): Dropout(p=0.08000000000000002)\n",
       "      (2): Linear(in_features=1200, out_features=50, bias=True)\n",
       "      (3): ReLU(inplace)\n",
       "      (4): BatchNorm1d(50, eps=1e-05, momentum=0.1, affine=True, track_running_stats=True)\n",
       "      (5): Dropout(p=0.1)\n",
       "      (6): Linear(in_features=50, out_features=5, bias=True)\n",
       "    )\n",
       "  )\n",
       "), opt_func=functools.partial(<class 'torch.optim.adam.Adam'>, betas=(0.9, 0.99)), loss_func=FlattenedLoss of CrossEntropyLoss(), metrics=[<function accuracy at 0x0000029E142FA730>, FBeta(average='weighted', pos_label=1, eps=1e-09, beta=2)], true_wd=True, bn_wd=True, wd=0.01, train_bn=True, path=WindowsPath('.'), model_dir='models', callback_fns=[functools.partial(<class 'fastai.basic_train.Recorder'>, add_time=True)], callbacks=[RNNTrainer\n",
       "learn: RNNLearner(data=TextClasDataBunch;\n",
       "\n",
       "Train: LabelList (3200 items)\n",
       "x: TextList\n",
       "  ال+ ان اي مواطن يراجع اي جهه حكومي + ه و+ لم تخدم + ه حسب ال+ نظام يرفع جوال + ه و+ لا يرد + ه الا رقم مكافحه ال+ فساد خلو + نا ننظف ال+ بلد من + هم ال+ ملك يحارب ال+ فساد,  كلام ال+ ناس محمد عبيد يعتبر ان ما جري ال+ يوم هو اخطر من رقم ايار قرارات ال+ حكومه ال+ لبنانيه عام رقم حول امن ال+ مطار و+ خط,  ال+ اردنيه ال+ مهندسه هدي ال+ حسيني تحصد ذهبي + ه جاءز + ه ستيفي ك+ افضل موظف + ه في ال+ عالم و+ ذلك عن فءه ال+ مءسسات ال+ حكوميه او غي,  في متل ب+ قول ادفشني و+ شوف ما اجحشني و+ انت يا سعد جحش خريها شخ تحتك و+ لكن اسمع لبنان مقاوم + ه لا تعرف ال+ هوان و+ لا تعر,  رجعت الضرايب ب+ كل دول ال+ عالم ب+ استثناء لبنان مقابل كل ضريبه في خدم + ه عن + نا مقابل كل ضريبه في ضرب + ه بتضربنا ب+ ال+ قلب طيب ليش انا لبناني\n",
       "y: CategoryList\n",
       "1,-1,1,-1,-2\n",
       "Path: .;\n",
       "\n",
       "Valid: LabelList (800 items)\n",
       "x: TextList\n",
       "  تصل ال+ سحب ال+ ممطره ل+ ال+ منطقه ال+ وسطي سدير صباح غد ال+ ثلاثاء ب+ شكل خفيف و+ تتحسن ب+ اذن الله من بعد ال+ ظهر و+ هي من خفيف + ه الي,  فعلا xxunk ب+ لبنان بدنا نتعلم كيف نكون ايد وحد + ه ب+ غض ال+ نظر عن ال+ سياسه او ال+ مذهب او ال+ دين xxunk بدنا مصير نفكر ب+ طريق + ه اوسع شوي,  نتقدم ب+ ال+ تهاني ل+ سعاده ال+ دكتور فهد العضياني ب+ مناسبه تعيين + ه مشرفا مالي اداري ل+ فرع رابغ و نشكر ل + ه كريم زياره + ه ل+ عما,  نبارك من ال+ قلب حب ل+ منتخب ال+ مغرب ال+ شقيق ال+ تاهل ل+ كاس ال+ عالم في روسيا رقم عشت في ال+ اوطان ل+ ال+ علي عنوان ملء كل جنا,  لبنان بلد فاشل ب+ كفي تعرف ان + ه الضرايب ال+ جديده مش لحتي xxunk كهربا و+ مي لكن بس ل+ تغطي + ه سلسل + ه ال+ اجور ال+ جديده\n",
       "y: CategoryList\n",
       "0,1,2,2,-2\n",
       "Path: .;\n",
       "\n",
       "Test: None, model=SequentialRNN(\n",
       "  (0): MultiBatchEncoder(\n",
       "    (module): AWD_LSTM(\n",
       "      (encoder): Embedding(11880, 400, padding_idx=1)\n",
       "      (encoder_dp): EmbeddingDropout(\n",
       "        (emb): Embedding(11880, 400, padding_idx=1)\n",
       "      )\n",
       "      (rnns): ModuleList(\n",
       "        (0): WeightDropout(\n",
       "          (module): LSTM(400, 1150, batch_first=True)\n",
       "        )\n",
       "        (1): WeightDropout(\n",
       "          (module): LSTM(1150, 1150, batch_first=True)\n",
       "        )\n",
       "        (2): WeightDropout(\n",
       "          (module): LSTM(1150, 400, batch_first=True)\n",
       "        )\n",
       "      )\n",
       "      (input_dp): RNNDropout()\n",
       "      (hidden_dps): ModuleList(\n",
       "        (0): RNNDropout()\n",
       "        (1): RNNDropout()\n",
       "        (2): RNNDropout()\n",
       "      )\n",
       "    )\n",
       "  )\n",
       "  (1): PoolingLinearClassifier(\n",
       "    (layers): Sequential(\n",
       "      (0): BatchNorm1d(1200, eps=1e-05, momentum=0.1, affine=True, track_running_stats=True)\n",
       "      (1): Dropout(p=0.08000000000000002)\n",
       "      (2): Linear(in_features=1200, out_features=50, bias=True)\n",
       "      (3): ReLU(inplace)\n",
       "      (4): BatchNorm1d(50, eps=1e-05, momentum=0.1, affine=True, track_running_stats=True)\n",
       "      (5): Dropout(p=0.1)\n",
       "      (6): Linear(in_features=50, out_features=5, bias=True)\n",
       "    )\n",
       "  )\n",
       "), opt_func=functools.partial(<class 'torch.optim.adam.Adam'>, betas=(0.9, 0.99)), loss_func=FlattenedLoss of CrossEntropyLoss(), metrics=[<function accuracy at 0x0000029E142FA730>, FBeta(average='weighted', pos_label=1, eps=1e-09, beta=2)], true_wd=True, bn_wd=True, wd=0.01, train_bn=True, path=WindowsPath('.'), model_dir='models', callback_fns=[functools.partial(<class 'fastai.basic_train.Recorder'>, add_time=True)], callbacks=[...], layer_groups=[Sequential(\n",
       "  (0): Embedding(11880, 400, padding_idx=1)\n",
       "  (1): EmbeddingDropout(\n",
       "    (emb): Embedding(11880, 400, padding_idx=1)\n",
       "  )\n",
       "), Sequential(\n",
       "  (0): WeightDropout(\n",
       "    (module): LSTM(400, 1150, batch_first=True)\n",
       "  )\n",
       "  (1): RNNDropout()\n",
       "), Sequential(\n",
       "  (0): WeightDropout(\n",
       "    (module): LSTM(1150, 1150, batch_first=True)\n",
       "  )\n",
       "  (1): RNNDropout()\n",
       "), Sequential(\n",
       "  (0): WeightDropout(\n",
       "    (module): LSTM(1150, 400, batch_first=True)\n",
       "  )\n",
       "  (1): RNNDropout()\n",
       "), Sequential(\n",
       "  (0): PoolingLinearClassifier(\n",
       "    (layers): Sequential(\n",
       "      (0): BatchNorm1d(1200, eps=1e-05, momentum=0.1, affine=True, track_running_stats=True)\n",
       "      (1): Dropout(p=0.08000000000000002)\n",
       "      (2): Linear(in_features=1200, out_features=50, bias=True)\n",
       "      (3): ReLU(inplace)\n",
       "      (4): BatchNorm1d(50, eps=1e-05, momentum=0.1, affine=True, track_running_stats=True)\n",
       "      (5): Dropout(p=0.1)\n",
       "      (6): Linear(in_features=50, out_features=5, bias=True)\n",
       "    )\n",
       "  )\n",
       ")], add_time=True)\n",
       "alpha: 2.0\n",
       "beta: 1.0], layer_groups=[Sequential(\n",
       "  (0): Embedding(11880, 400, padding_idx=1)\n",
       "  (1): EmbeddingDropout(\n",
       "    (emb): Embedding(11880, 400, padding_idx=1)\n",
       "  )\n",
       "), Sequential(\n",
       "  (0): WeightDropout(\n",
       "    (module): LSTM(400, 1150, batch_first=True)\n",
       "  )\n",
       "  (1): RNNDropout()\n",
       "), Sequential(\n",
       "  (0): WeightDropout(\n",
       "    (module): LSTM(1150, 1150, batch_first=True)\n",
       "  )\n",
       "  (1): RNNDropout()\n",
       "), Sequential(\n",
       "  (0): WeightDropout(\n",
       "    (module): LSTM(1150, 400, batch_first=True)\n",
       "  )\n",
       "  (1): RNNDropout()\n",
       "), Sequential(\n",
       "  (0): PoolingLinearClassifier(\n",
       "    (layers): Sequential(\n",
       "      (0): BatchNorm1d(1200, eps=1e-05, momentum=0.1, affine=True, track_running_stats=True)\n",
       "      (1): Dropout(p=0.08000000000000002)\n",
       "      (2): Linear(in_features=1200, out_features=50, bias=True)\n",
       "      (3): ReLU(inplace)\n",
       "      (4): BatchNorm1d(50, eps=1e-05, momentum=0.1, affine=True, track_running_stats=True)\n",
       "      (5): Dropout(p=0.1)\n",
       "      (6): Linear(in_features=50, out_features=5, bias=True)\n",
       "    )\n",
       "  )\n",
       ")], add_time=True)"
      ]
     },
     "execution_count": 100,
     "metadata": {},
     "output_type": "execute_result"
    }
   ],
   "source": [
    "learn_clas.load('ArSenTD-LEV_preprocessed_second_acc484_f471')"
   ]
  },
  {
   "cell_type": "code",
   "execution_count": 106,
   "metadata": {},
   "outputs": [],
   "source": [
    "learn_clas.freeze_to(-3)\n",
    "#learn_clas.lr_find()\n",
    "#learn_clas.recorder.plot()\n",
    "#learn_clas.fit_one_cycle(1, slice(1e-3/(2.6**4),1e-3))"
   ]
  },
  {
   "cell_type": "code",
   "execution_count": 107,
   "metadata": {},
   "outputs": [
    {
     "data": {
      "text/html": [
       "Total time: 01:09 <p><table border=\"1\" class=\"dataframe\">\n",
       "  <thead>\n",
       "    <tr style=\"text-align: left;\">\n",
       "      <th>epoch</th>\n",
       "      <th>train_loss</th>\n",
       "      <th>valid_loss</th>\n",
       "      <th>accuracy</th>\n",
       "      <th>f_beta</th>\n",
       "      <th>time</th>\n",
       "    </tr>\n",
       "  </thead>\n",
       "  <tbody>\n",
       "    <tr>\n",
       "      <td>0</td>\n",
       "      <td>0.753973</td>\n",
       "      <td>0.835982</td>\n",
       "      <td>0.692308</td>\n",
       "      <td>0.665192</td>\n",
       "      <td>01:09</td>\n",
       "    </tr>\n",
       "  </tbody>\n",
       "</table>"
      ],
      "text/plain": [
       "<IPython.core.display.HTML object>"
      ]
     },
     "metadata": {},
     "output_type": "display_data"
    }
   ],
   "source": [
    "# to be deleted\n",
    "learn_clas.fit_one_cycle(1, slice(1e-3/(2.6**4),1e-3))"
   ]
  },
  {
   "cell_type": "code",
   "execution_count": 108,
   "metadata": {},
   "outputs": [],
   "source": [
    "learn_clas.save('ASTD_third_acc692_f665_min4')\n",
    "# 0.686314\t0.656684"
   ]
  },
  {
   "cell_type": "code",
   "execution_count": 59,
   "metadata": {},
   "outputs": [
    {
     "data": {
      "text/plain": [
       "RNNLearner(data=TextClasDataBunch;\n",
       "\n",
       "Train: LabelList (8004 items)\n",
       "x: TextList\n",
       "  اجلاء اكثر من xxunk شخص تحسبا ل+ xxunk ال+ xxunk,  ل+ ال+ تخلص من مرسي غاندي هو ال+ حل,  رقم يا اخ + ي اي منصب رفضت ال+ مناصب ال+ لي عرضت عليا xxunk ان + ي ب+ قوم ب+ دوري و+ مش محتاج مناصب ارحمونا يرحم + كم الله xxunk ب+ نزاهه,  xxunk الله يا جماعه و+ بلاش اشاعات عن مفاجات عشان مش عايزين xxunk كل ال+ حكايه ملف معقد xxunk نفهم + ه مع بعض,  ب+ ال+ فيديو عكاشه و+ الله هيفاء و+ هبي ست مش طريه و+ ال+ لي يتجوز + ها يبقي خد خازوق بوابه ال+ قاهره مصر توفيق عكاشه\n",
       "y: CategoryList\n",
       "-2,-2,0,1,-1\n",
       "Path: .;\n",
       "\n",
       "Valid: LabelList (2002 items)\n",
       "x: TextList\n",
       "  في عالم موازي ان + ي مخلص كل حاجه ليله ال+ امتحان و ب+ راجع او احل,  عندما + ما تحتاج ل+ حواءط xxunk ل+ مءسسات ال+ دوله ف+ هذا xxunk ان تلك ال+ مءسسات ليست ل+ خدمه ال+ شعب و+ انما + ما ل+ قهر + ه,  رونالدو xxunk ل+ لقاء البايرن ريال مدريد كريستيانو رونالدو,  رقم انا ب+ رض + ه ال+ لي ب+ تكلم زي عمر سليمان ده شكل + ه xxunk من + كم و+ ب+ كل امانه انا كنت احترم + كم ايضا و+ لكن كفايه و+ هم ل+ حد هنا,  ل+ ابد من اقاله وزير ال+ داخليه و+ مدير امن بورسعيد و+ محافظ + ها فورا xxunk ل+ ال+ دكتور xxunk xxunk ب+ جلسه استثناءيه غدا ل+ مجلس ال+ شعب\n",
       "y: CategoryList\n",
       "-2,-2,-1,0,-1\n",
       "Path: .;\n",
       "\n",
       "Test: None, model=SequentialRNN(\n",
       "  (0): MultiBatchEncoder(\n",
       "    (module): AWD_LSTM(\n",
       "      (encoder): Embedding(8270, 400, padding_idx=1)\n",
       "      (encoder_dp): EmbeddingDropout(\n",
       "        (emb): Embedding(8270, 400, padding_idx=1)\n",
       "      )\n",
       "      (rnns): ModuleList(\n",
       "        (0): WeightDropout(\n",
       "          (module): LSTM(400, 1150, batch_first=True)\n",
       "        )\n",
       "        (1): WeightDropout(\n",
       "          (module): LSTM(1150, 1150, batch_first=True)\n",
       "        )\n",
       "        (2): WeightDropout(\n",
       "          (module): LSTM(1150, 400, batch_first=True)\n",
       "        )\n",
       "      )\n",
       "      (input_dp): RNNDropout()\n",
       "      (hidden_dps): ModuleList(\n",
       "        (0): RNNDropout()\n",
       "        (1): RNNDropout()\n",
       "        (2): RNNDropout()\n",
       "      )\n",
       "    )\n",
       "  )\n",
       "  (1): PoolingLinearClassifier(\n",
       "    (layers): Sequential(\n",
       "      (0): BatchNorm1d(1200, eps=1e-05, momentum=0.1, affine=True, track_running_stats=True)\n",
       "      (1): Dropout(p=0.08000000000000002)\n",
       "      (2): Linear(in_features=1200, out_features=50, bias=True)\n",
       "      (3): ReLU(inplace)\n",
       "      (4): BatchNorm1d(50, eps=1e-05, momentum=0.1, affine=True, track_running_stats=True)\n",
       "      (5): Dropout(p=0.1)\n",
       "      (6): Linear(in_features=50, out_features=4, bias=True)\n",
       "    )\n",
       "  )\n",
       "), opt_func=functools.partial(<class 'torch.optim.adam.Adam'>, betas=(0.9, 0.99)), loss_func=FlattenedLoss of CrossEntropyLoss(), metrics=[<function accuracy at 0x000001212572AD08>, FBeta(average='weighted', pos_label=1, eps=1e-09, beta=2)], true_wd=True, bn_wd=True, wd=0.01, train_bn=True, path=WindowsPath('.'), model_dir='models', callback_fns=[functools.partial(<class 'fastai.basic_train.Recorder'>, add_time=True)], callbacks=[RNNTrainer\n",
       "learn: RNNLearner(data=TextClasDataBunch;\n",
       "\n",
       "Train: LabelList (8004 items)\n",
       "x: TextList\n",
       "  اجلاء اكثر من xxunk شخص تحسبا ل+ xxunk ال+ xxunk,  ل+ ال+ تخلص من مرسي غاندي هو ال+ حل,  رقم يا اخ + ي اي منصب رفضت ال+ مناصب ال+ لي عرضت عليا xxunk ان + ي ب+ قوم ب+ دوري و+ مش محتاج مناصب ارحمونا يرحم + كم الله xxunk ب+ نزاهه,  xxunk الله يا جماعه و+ بلاش اشاعات عن مفاجات عشان مش عايزين xxunk كل ال+ حكايه ملف معقد xxunk نفهم + ه مع بعض,  ب+ ال+ فيديو عكاشه و+ الله هيفاء و+ هبي ست مش طريه و+ ال+ لي يتجوز + ها يبقي خد خازوق بوابه ال+ قاهره مصر توفيق عكاشه\n",
       "y: CategoryList\n",
       "-2,-2,0,1,-1\n",
       "Path: .;\n",
       "\n",
       "Valid: LabelList (2002 items)\n",
       "x: TextList\n",
       "  في عالم موازي ان + ي مخلص كل حاجه ليله ال+ امتحان و ب+ راجع او احل,  عندما + ما تحتاج ل+ حواءط xxunk ل+ مءسسات ال+ دوله ف+ هذا xxunk ان تلك ال+ مءسسات ليست ل+ خدمه ال+ شعب و+ انما + ما ل+ قهر + ه,  رونالدو xxunk ل+ لقاء البايرن ريال مدريد كريستيانو رونالدو,  رقم انا ب+ رض + ه ال+ لي ب+ تكلم زي عمر سليمان ده شكل + ه xxunk من + كم و+ ب+ كل امانه انا كنت احترم + كم ايضا و+ لكن كفايه و+ هم ل+ حد هنا,  ل+ ابد من اقاله وزير ال+ داخليه و+ مدير امن بورسعيد و+ محافظ + ها فورا xxunk ل+ ال+ دكتور xxunk xxunk ب+ جلسه استثناءيه غدا ل+ مجلس ال+ شعب\n",
       "y: CategoryList\n",
       "-2,-2,-1,0,-1\n",
       "Path: .;\n",
       "\n",
       "Test: None, model=SequentialRNN(\n",
       "  (0): MultiBatchEncoder(\n",
       "    (module): AWD_LSTM(\n",
       "      (encoder): Embedding(8270, 400, padding_idx=1)\n",
       "      (encoder_dp): EmbeddingDropout(\n",
       "        (emb): Embedding(8270, 400, padding_idx=1)\n",
       "      )\n",
       "      (rnns): ModuleList(\n",
       "        (0): WeightDropout(\n",
       "          (module): LSTM(400, 1150, batch_first=True)\n",
       "        )\n",
       "        (1): WeightDropout(\n",
       "          (module): LSTM(1150, 1150, batch_first=True)\n",
       "        )\n",
       "        (2): WeightDropout(\n",
       "          (module): LSTM(1150, 400, batch_first=True)\n",
       "        )\n",
       "      )\n",
       "      (input_dp): RNNDropout()\n",
       "      (hidden_dps): ModuleList(\n",
       "        (0): RNNDropout()\n",
       "        (1): RNNDropout()\n",
       "        (2): RNNDropout()\n",
       "      )\n",
       "    )\n",
       "  )\n",
       "  (1): PoolingLinearClassifier(\n",
       "    (layers): Sequential(\n",
       "      (0): BatchNorm1d(1200, eps=1e-05, momentum=0.1, affine=True, track_running_stats=True)\n",
       "      (1): Dropout(p=0.08000000000000002)\n",
       "      (2): Linear(in_features=1200, out_features=50, bias=True)\n",
       "      (3): ReLU(inplace)\n",
       "      (4): BatchNorm1d(50, eps=1e-05, momentum=0.1, affine=True, track_running_stats=True)\n",
       "      (5): Dropout(p=0.1)\n",
       "      (6): Linear(in_features=50, out_features=4, bias=True)\n",
       "    )\n",
       "  )\n",
       "), opt_func=functools.partial(<class 'torch.optim.adam.Adam'>, betas=(0.9, 0.99)), loss_func=FlattenedLoss of CrossEntropyLoss(), metrics=[<function accuracy at 0x000001212572AD08>, FBeta(average='weighted', pos_label=1, eps=1e-09, beta=2)], true_wd=True, bn_wd=True, wd=0.01, train_bn=True, path=WindowsPath('.'), model_dir='models', callback_fns=[functools.partial(<class 'fastai.basic_train.Recorder'>, add_time=True)], callbacks=[...], layer_groups=[Sequential(\n",
       "  (0): Embedding(8270, 400, padding_idx=1)\n",
       "  (1): EmbeddingDropout(\n",
       "    (emb): Embedding(8270, 400, padding_idx=1)\n",
       "  )\n",
       "), Sequential(\n",
       "  (0): WeightDropout(\n",
       "    (module): LSTM(400, 1150, batch_first=True)\n",
       "  )\n",
       "  (1): RNNDropout()\n",
       "), Sequential(\n",
       "  (0): WeightDropout(\n",
       "    (module): LSTM(1150, 1150, batch_first=True)\n",
       "  )\n",
       "  (1): RNNDropout()\n",
       "), Sequential(\n",
       "  (0): WeightDropout(\n",
       "    (module): LSTM(1150, 400, batch_first=True)\n",
       "  )\n",
       "  (1): RNNDropout()\n",
       "), Sequential(\n",
       "  (0): PoolingLinearClassifier(\n",
       "    (layers): Sequential(\n",
       "      (0): BatchNorm1d(1200, eps=1e-05, momentum=0.1, affine=True, track_running_stats=True)\n",
       "      (1): Dropout(p=0.08000000000000002)\n",
       "      (2): Linear(in_features=1200, out_features=50, bias=True)\n",
       "      (3): ReLU(inplace)\n",
       "      (4): BatchNorm1d(50, eps=1e-05, momentum=0.1, affine=True, track_running_stats=True)\n",
       "      (5): Dropout(p=0.1)\n",
       "      (6): Linear(in_features=50, out_features=4, bias=True)\n",
       "    )\n",
       "  )\n",
       ")], add_time=True)\n",
       "alpha: 2.0\n",
       "beta: 1.0], layer_groups=[Sequential(\n",
       "  (0): Embedding(8270, 400, padding_idx=1)\n",
       "  (1): EmbeddingDropout(\n",
       "    (emb): Embedding(8270, 400, padding_idx=1)\n",
       "  )\n",
       "), Sequential(\n",
       "  (0): WeightDropout(\n",
       "    (module): LSTM(400, 1150, batch_first=True)\n",
       "  )\n",
       "  (1): RNNDropout()\n",
       "), Sequential(\n",
       "  (0): WeightDropout(\n",
       "    (module): LSTM(1150, 1150, batch_first=True)\n",
       "  )\n",
       "  (1): RNNDropout()\n",
       "), Sequential(\n",
       "  (0): WeightDropout(\n",
       "    (module): LSTM(1150, 400, batch_first=True)\n",
       "  )\n",
       "  (1): RNNDropout()\n",
       "), Sequential(\n",
       "  (0): PoolingLinearClassifier(\n",
       "    (layers): Sequential(\n",
       "      (0): BatchNorm1d(1200, eps=1e-05, momentum=0.1, affine=True, track_running_stats=True)\n",
       "      (1): Dropout(p=0.08000000000000002)\n",
       "      (2): Linear(in_features=1200, out_features=50, bias=True)\n",
       "      (3): ReLU(inplace)\n",
       "      (4): BatchNorm1d(50, eps=1e-05, momentum=0.1, affine=True, track_running_stats=True)\n",
       "      (5): Dropout(p=0.1)\n",
       "      (6): Linear(in_features=50, out_features=4, bias=True)\n",
       "    )\n",
       "  )\n",
       ")], add_time=True)"
      ]
     },
     "execution_count": 59,
     "metadata": {},
     "output_type": "execute_result"
    }
   ],
   "source": [
    "learn_clas.load('ASTD_third_acc689_f668')"
   ]
  },
  {
   "cell_type": "code",
   "execution_count": 109,
   "metadata": {},
   "outputs": [],
   "source": [
    "learn_clas.unfreeze()\n",
    "#learn_clas.lr_find()\n",
    "#learn_clas.recorder.plot()"
   ]
  },
  {
   "cell_type": "code",
   "execution_count": 110,
   "metadata": {},
   "outputs": [
    {
     "data": {
      "text/html": [
       "Total time: 07:12 <p><table border=\"1\" class=\"dataframe\">\n",
       "  <thead>\n",
       "    <tr style=\"text-align: left;\">\n",
       "      <th>epoch</th>\n",
       "      <th>train_loss</th>\n",
       "      <th>valid_loss</th>\n",
       "      <th>accuracy</th>\n",
       "      <th>f_beta</th>\n",
       "      <th>time</th>\n",
       "    </tr>\n",
       "  </thead>\n",
       "  <tbody>\n",
       "    <tr>\n",
       "      <td>0</td>\n",
       "      <td>0.720984</td>\n",
       "      <td>0.832350</td>\n",
       "      <td>0.696304</td>\n",
       "      <td>0.666945</td>\n",
       "      <td>01:11</td>\n",
       "    </tr>\n",
       "    <tr>\n",
       "      <td>1</td>\n",
       "      <td>0.708480</td>\n",
       "      <td>0.839034</td>\n",
       "      <td>0.689810</td>\n",
       "      <td>0.669408</td>\n",
       "      <td>01:11</td>\n",
       "    </tr>\n",
       "    <tr>\n",
       "      <td>2</td>\n",
       "      <td>0.694973</td>\n",
       "      <td>0.839271</td>\n",
       "      <td>0.686813</td>\n",
       "      <td>0.667135</td>\n",
       "      <td>01:11</td>\n",
       "    </tr>\n",
       "    <tr>\n",
       "      <td>3</td>\n",
       "      <td>0.702815</td>\n",
       "      <td>0.832584</td>\n",
       "      <td>0.697802</td>\n",
       "      <td>0.670850</td>\n",
       "      <td>01:11</td>\n",
       "    </tr>\n",
       "    <tr>\n",
       "      <td>4</td>\n",
       "      <td>0.702329</td>\n",
       "      <td>0.833517</td>\n",
       "      <td>0.696304</td>\n",
       "      <td>0.671418</td>\n",
       "      <td>01:13</td>\n",
       "    </tr>\n",
       "    <tr>\n",
       "      <td>5</td>\n",
       "      <td>0.684041</td>\n",
       "      <td>0.837961</td>\n",
       "      <td>0.690809</td>\n",
       "      <td>0.671963</td>\n",
       "      <td>01:12</td>\n",
       "    </tr>\n",
       "  </tbody>\n",
       "</table>"
      ],
      "text/plain": [
       "<IPython.core.display.HTML object>"
      ]
     },
     "metadata": {},
     "output_type": "display_data"
    }
   ],
   "source": [
    "#learn_clas.unfreeze()\n",
    "learn_clas.fit_one_cycle(6, slice(1e-4/(2.6**4),1e-4))\n",
    "# 0.659341\t0.857126\t0.698801\t0.677395"
   ]
  },
  {
   "cell_type": "code",
   "execution_count": 111,
   "metadata": {},
   "outputs": [
    {
     "data": {
      "image/png": "[encoded data removed]",
      "text/plain": [
       "<Figure size 432x288 with 1 Axes>"
      ]
     },
     "metadata": {
      "needs_background": "light"
     },
     "output_type": "display_data"
    }
   ],
   "source": [
    "learn_clas.recorder.plot_losses()"
   ]
  },
  {
   "cell_type": "code",
   "execution_count": 28,
   "metadata": {},
   "outputs": [],
   "source": [
    "learn_clas.save('third_acc861_f889')"
   ]
  },
  {
   "cell_type": "code",
   "execution_count": null,
   "metadata": {},
   "outputs": [],
   "source": []
  },
  {
   "cell_type": "code",
   "execution_count": null,
   "metadata": {},
   "outputs": [],
   "source": []
  },
  {
   "cell_type": "code",
   "execution_count": null,
   "metadata": {},
   "outputs": [],
   "source": []
  },
  {
   "cell_type": "code",
   "execution_count": null,
   "metadata": {},
   "outputs": [],
   "source": []
  },
  {
   "cell_type": "code",
   "execution_count": null,
   "metadata": {},
   "outputs": [],
   "source": []
  },
  {
   "cell_type": "code",
   "execution_count": null,
   "metadata": {},
   "outputs": [],
   "source": []
  },
  {
   "cell_type": "code",
   "execution_count": null,
   "metadata": {},
   "outputs": [],
   "source": []
  },
  {
   "cell_type": "code",
   "execution_count": null,
   "metadata": {},
   "outputs": [],
   "source": []
  },
  {
   "cell_type": "code",
   "execution_count": null,
   "metadata": {},
   "outputs": [],
   "source": []
  },
  {
   "cell_type": "markdown",
   "metadata": {},
   "source": [
    "### Results\n",
    "|Dataset|epoch|train_loss|valid_loss|accuracy|f_beta  |seed|test split|\n",
    "|-------|-----|----------|----------|--------|--------|----|----------|\n",
    "|ASTD-B |6\t  |0.438674  |0.448438  |0.864662|0.857988|42  |0.1       |\n",
    "|ASTD   |6\t  |0.659341  |0.857126  |0.698801|0.677395|42  |0.2       |\n",
    "|AJGT   |5    |0.429798\t |0.452757\t|0.805556|0.745665|14  |0.2       |\n",
    "|LEV    |16   |1.185471  |1.251261  |0.523750|0.511322|14  |0.2       |\n",
    "|HARD   |7    |0.121737  |0.128373  |0.956695|0.956682|43  |0.2       |"
   ]
  }
 ],
 "metadata": {
  "kernelspec": {
   "display_name": "Python 3",
   "language": "python",
   "name": "python3"
  },
  "language_info": {
   "codemirror_mode": {
    "name": "ipython",
    "version": 3
   },
   "file_extension": ".py",
   "mimetype": "text/x-python",
   "name": "python",
   "nbconvert_exporter": "python",
   "pygments_lexer": "ipython3",
   "version": "3.6.8"
  }
 },
 "nbformat": 4,
 "nbformat_minor": 2
}
